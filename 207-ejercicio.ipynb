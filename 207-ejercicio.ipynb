{
 "cells": [
  {
   "cell_type": "code",
   "execution_count": null,
   "metadata": {},
   "outputs": [],
   "source": [
    "    # Utiliza itertools para obtener los\n",
    "    # múltiplos de 5 de la siguiente lista\n",
    "    #     [1,5,10,23,3,555,11,10]\n",
    "    # Imprime el resultado en una lista"
   ]
  },
  {
   "cell_type": "code",
   "execution_count": 2,
   "metadata": {},
   "outputs": [
    {
     "name": "stdout",
     "output_type": "stream",
     "text": [
      "[5, 10, 555, 10]\n"
     ]
    }
   ],
   "source": [
    "import itertools\n",
    "\n",
    "data = [1,5,10,23,3,555,11,10] \n",
    "\n",
    "predicado = lambda num: num %5 !=0 \n",
    "\n",
    "res = list(itertools.filterfalse(predicado, data))\n",
    "print(res)"
   ]
  }
 ],
 "metadata": {
  "kernelspec": {
   "display_name": "Python 3",
   "language": "python",
   "name": "python3"
  },
  "language_info": {
   "codemirror_mode": {
    "name": "ipython",
    "version": 3
   },
   "file_extension": ".py",
   "mimetype": "text/x-python",
   "name": "python",
   "nbconvert_exporter": "python",
   "pygments_lexer": "ipython3",
   "version": "3.11.6"
  }
 },
 "nbformat": 4,
 "nbformat_minor": 2
}
