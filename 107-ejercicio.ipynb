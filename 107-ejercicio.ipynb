{
 "cells": [
  {
   "cell_type": "code",
   "execution_count": 6,
   "metadata": {},
   "outputs": [],
   "source": [
    "# Dada una lista de valores numéricos enteros, obtenga el resultado de multiplicar todos los valores en orden."
   ]
  },
  {
   "cell_type": "code",
   "execution_count": 7,
   "metadata": {},
   "outputs": [
    {
     "name": "stdout",
     "output_type": "stream",
     "text": [
      "24\n",
      "110355024\n",
      "1\n",
      "1\n"
     ]
    }
   ],
   "source": [
    "def mult_reduce(numbers):\n",
    "    res = 1\n",
    "    for i in numbers:\n",
    "        res *= i\n",
    "    return res\n",
    "\n",
    "print(mult_reduce([1, 2, 3, 4]))\n",
    "print(mult_reduce([101, 102, 103, 104]))\n",
    "print(mult_reduce([]))\n",
    "print(mult_reduce([1]))"
   ]
  }
 ],
 "metadata": {
  "kernelspec": {
   "display_name": "Python 3",
   "language": "python",
   "name": "python3"
  },
  "language_info": {
   "codemirror_mode": {
    "name": "ipython",
    "version": 3
   },
   "file_extension": ".py",
   "mimetype": "text/x-python",
   "name": "python",
   "nbconvert_exporter": "python",
   "pygments_lexer": "ipython3",
   "version": "3.11.6"
  }
 },
 "nbformat": 4,
 "nbformat_minor": 2
}
