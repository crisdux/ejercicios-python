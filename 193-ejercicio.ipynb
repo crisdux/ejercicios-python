{
 "cells": [
  {
   "cell_type": "code",
   "execution_count": null,
   "metadata": {},
   "outputs": [],
   "source": [
    "#     Crea una función que reciba una lista de\n",
    "# números y devuelva una lista de los números al cuadrado\n",
    "#     Ejecuta la función para la lista [2, 3, 5, 7, 11]\n",
    "#                 Imprime el resultado"
   ]
  },
  {
   "cell_type": "code",
   "execution_count": 1,
   "metadata": {},
   "outputs": [
    {
     "name": "stdout",
     "output_type": "stream",
     "text": [
      "[4, 9, 25, 49, 121]\n"
     ]
    }
   ],
   "source": [
    "def cuadrados(numeros):\n",
    "    return [ numero**2 for numero in numeros]\n",
    "\n",
    "print(cuadrados([2, 3, 5, 7, 11]))"
   ]
  }
 ],
 "metadata": {
  "kernelspec": {
   "display_name": "Python 3",
   "language": "python",
   "name": "python3"
  },
  "language_info": {
   "codemirror_mode": {
    "name": "ipython",
    "version": 3
   },
   "file_extension": ".py",
   "mimetype": "text/x-python",
   "name": "python",
   "nbconvert_exporter": "python",
   "pygments_lexer": "ipython3",
   "version": "3.11.6"
  }
 },
 "nbformat": 4,
 "nbformat_minor": 2
}
