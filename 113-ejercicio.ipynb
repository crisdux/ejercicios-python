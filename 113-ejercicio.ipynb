{
 "cells": [
  {
   "cell_type": "code",
   "execution_count": 5,
   "metadata": {},
   "outputs": [],
   "source": [
    "\n",
    "#  Dada una lista de valores numéricos enteros, obtenga su mínimo valor.                                                             │\n",
    "# │                                                                                                                                   │\n",
    "# │ Implementa la solución usando la función \"built-in\" max().                                                                        │\n",
    "# │                                                                                                                                   │\n",
    "# │ Prohibido utilizar:                                                                                                               │\n",
    "# │                                                                                                                                   │\n",
    "# │  • La función \"built-in\" min().                                                                                                   │\n",
    "# │  • La función \"built-in\" sorted()."
   ]
  },
  {
   "cell_type": "code",
   "execution_count": 6,
   "metadata": {},
   "outputs": [
    {
     "name": "stdout",
     "output_type": "stream",
     "text": [
      "-11\n",
      "-9\n",
      "-8\n"
     ]
    }
   ],
   "source": [
    "def min_value_with_max(values):\n",
    "    while len(values) != 1:\n",
    "        value_max = max(values) #10\n",
    "        values.remove(value_max)\n",
    "    return values[0]\n",
    "\n",
    "print(min_value_with_max([-11, 10, -6, 15, -1]))\n",
    "print(min_value_with_max([5, 9, -6, 9, -2, -9, -7, 2]))\n",
    "print(min_value_with_max([-7, -5, -5, -8, -3]))"
   ]
  }
 ],
 "metadata": {
  "kernelspec": {
   "display_name": "Python 3",
   "language": "python",
   "name": "python3"
  },
  "language_info": {
   "codemirror_mode": {
    "name": "ipython",
    "version": 3
   },
   "file_extension": ".py",
   "mimetype": "text/x-python",
   "name": "python",
   "nbconvert_exporter": "python",
   "pygments_lexer": "ipython3",
   "version": "3.11.6"
  }
 },
 "nbformat": 4,
 "nbformat_minor": 2
}
