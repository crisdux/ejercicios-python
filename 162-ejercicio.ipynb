{
 "cells": [
  {
   "cell_type": "code",
   "execution_count": null,
   "metadata": {},
   "outputs": [],
   "source": [
    "#             De la siguiente cadena: 'PpYyTtHhOoNnIiSsTtAa'\n",
    "# Separa las mayúsculas y minúsculas sin usar ciclos en nuevas cadenas\n",
    "#             e imprime el resultado en una sola línea"
   ]
  },
  {
   "cell_type": "code",
   "execution_count": 3,
   "metadata": {},
   "outputs": [
    {
     "name": "stdout",
     "output_type": "stream",
     "text": [
      "mayusculas: PYTHONISTA\n",
      "minusculas: pythonista\n"
     ]
    }
   ],
   "source": [
    "mensaje = \"PpYyTtHhOoNnIiSsTtAa\"\n",
    "print(f\"mayusculas: {mensaje[::2]}\")\n",
    "print(f\"minusculas: {mensaje[1::2]}\")"
   ]
  }
 ],
 "metadata": {
  "language_info": {
   "name": "python"
  }
 },
 "nbformat": 4,
 "nbformat_minor": 2
}
