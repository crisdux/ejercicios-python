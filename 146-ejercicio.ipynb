{
 "cells": [
  {
   "cell_type": "code",
   "execution_count": null,
   "metadata": {},
   "outputs": [],
   "source": [
    "#  Escriba una función que reciba una lista de elementos y un parámetro \"opcional\" para el formato de salida. El objetivo es         │\n",
    "# │ encontrar la frecuencia de aparición de elementos consecutivos en la lista de entrada.                                            │\n",
    "# │                                                                                                                                   │\n",
    "# │ Si el parámetro de salida como cadena de texto está a False se deberá devolver una lista de tuplas, donde cada tupla contiene el  │\n",
    "# │ elemento y el número de repeticiones (frecuencia). Si el parámetro de salida como cadena de texto está a True se deberá devolver  │\n",
    "# │ una cadena de texto con elemento:frecuencia separados por comas.\n",
    "\n",
    "#  Notas:                                                                                                                            │\n",
    "# │                                                                                                                                   │\n",
    "# │  • Se debe obligar a que el primer parámetro (lista de elementos) sea pasado como posicional.                                     │\n",
    "# │  • El segundo parámetro para el formato de salida como cadena de texto debe ser falso por defecto."
   ]
  },
  {
   "cell_type": "code",
   "execution_count": 1,
   "metadata": {},
   "outputs": [],
   "source": [
    "def contador_coincidencias(items):\n",
    "    res = {}\n",
    "    items_sort = sorted(items)\n",
    "    for item in items_sort:\n",
    "        if item in res:\n",
    "            res[item] = res[item] + 1\n",
    "        else:\n",
    "            res[item] = 1\n",
    "    return res\n",
    "\n",
    "def consecutive_freqs(items, /,  as_string=False):\n",
    "    res = contador_coincidencias(items)\n",
    "    if as_string == False:\n",
    "        return res.items()\n",
    "    else:\n",
    "        return ','.join(f'{k}:{v}' for k, v in res.items())"
   ]
  },
  {
   "cell_type": "code",
   "execution_count": 2,
   "metadata": {},
   "outputs": [
    {
     "name": "stdout",
     "output_type": "stream",
     "text": [
      "dict_items([(1, 1), (2, 3), (4, 3), (5, 4)])\n",
      "1:1,2:3,4:3,5:4\n",
      "dict_items([])\n",
      "\n",
      "dict_items([(1, 1)])\n",
      "1:1\n"
     ]
    }
   ],
   "source": [
    "print(consecutive_freqs([1,2,2,2,4,4,4,5,5,5,5]))\n",
    "print(consecutive_freqs([1,2,2,2,4,4,4,5,5,5,5], True))\n",
    "\n",
    "print(consecutive_freqs([], ))\n",
    "print(consecutive_freqs([], True))\n",
    "\n",
    "print(consecutive_freqs([1], ))\n",
    "print(consecutive_freqs([1], True))\n"
   ]
  }
 ],
 "metadata": {
  "kernelspec": {
   "display_name": "Python 3",
   "language": "python",
   "name": "python3"
  },
  "language_info": {
   "codemirror_mode": {
    "name": "ipython",
    "version": 3
   },
   "file_extension": ".py",
   "mimetype": "text/x-python",
   "name": "python",
   "nbconvert_exporter": "python",
   "pygments_lexer": "ipython3",
   "version": "3.11.6"
  }
 },
 "nbformat": 4,
 "nbformat_minor": 2
}
