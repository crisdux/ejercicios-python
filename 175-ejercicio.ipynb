{
 "cells": [
  {
   "cell_type": "code",
   "execution_count": null,
   "metadata": {},
   "outputs": [],
   "source": [
    "#     Declara un diccionario de 5 palabras\n",
    "# relacionadas a la programación con su definición\n",
    "#             Imprime el resultado"
   ]
  },
  {
   "cell_type": "code",
   "execution_count": 1,
   "metadata": {},
   "outputs": [
    {
     "name": "stdout",
     "output_type": "stream",
     "text": [
      "{'python': 'el mejor lenguaje de programacion', 'laravel': 'framework web back', 'angular': 'framework web front', 'java': 'zzz', 'javascript': 'lenguaje raro'}\n"
     ]
    }
   ],
   "source": [
    "lenguajes = {\n",
    "    \"python\": \"el mejor lenguaje de programacion\",\n",
    "    \"laravel\": \"framework web back\",\n",
    "    \"angular\": \"framework web front\",\n",
    "    \"java\": \"zzz\",\n",
    "    \"javascript\": \"lenguaje raro\"\n",
    "}\n",
    "\n",
    "print(lenguajes)"
   ]
  }
 ],
 "metadata": {
  "kernelspec": {
   "display_name": "Python 3",
   "language": "python",
   "name": "python3"
  },
  "language_info": {
   "codemirror_mode": {
    "name": "ipython",
    "version": 3
   },
   "file_extension": ".py",
   "mimetype": "text/x-python",
   "name": "python",
   "nbconvert_exporter": "python",
   "pygments_lexer": "ipython3",
   "version": "3.11.6"
  }
 },
 "nbformat": 4,
 "nbformat_minor": 2
}
