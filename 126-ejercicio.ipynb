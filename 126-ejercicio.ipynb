{
 "cells": [
  {
   "cell_type": "code",
   "execution_count": 14,
   "metadata": {},
   "outputs": [],
   "source": [
    "#  Dado un triángulo definido por sus tres extremos A, B y C (x,y para cada punto), calcule su baricentro utilizando la │\n",
    "# │ siguiente fórmula:\n",
    "\n",
    "# │       x  + x  + x                                                                                                    │\n",
    "# │        A    B    C                                                                                                   │\n",
    "# │  x  = ────────────                                                                                                   │\n",
    "# │   0         3                                                                                                        │\n",
    "# │                                                                                                                      │\n",
    "# │       y  + y  + y                                                                                                    │\n",
    "# │        A    B    C                                                                                                   │\n",
    "# │  y  = ────────────                                                                                                   │\n",
    "# │   0         3"
   ]
  },
  {
   "cell_type": "code",
   "execution_count": 15,
   "metadata": {},
   "outputs": [
    {
     "name": "stdout",
     "output_type": "stream",
     "text": [
      "(8.6667, 6.6667)\n",
      "(7.3333, 4.6667)\n"
     ]
    }
   ],
   "source": [
    "def barycenter(A, B, C):\n",
    "    total = A + B + C\n",
    "    x0 = 0\n",
    "    y0 = 0\n",
    "    for index, value in enumerate(total):\n",
    "        if index % 2 == 0:\n",
    "            x0 += value / 3\n",
    "        else:\n",
    "            y0 += value / 3\n",
    "    return round(x0,4), round(y0,4)\n",
    "\n",
    "print(barycenter([4,6], [12,4], [10,10]))\n",
    "print(barycenter([4,2], [12,2], [6,10]))"
   ]
  }
 ],
 "metadata": {
  "kernelspec": {
   "display_name": "Python 3",
   "language": "python",
   "name": "python3"
  },
  "language_info": {
   "codemirror_mode": {
    "name": "ipython",
    "version": 3
   },
   "file_extension": ".py",
   "mimetype": "text/x-python",
   "name": "python",
   "nbconvert_exporter": "python",
   "pygments_lexer": "ipython3",
   "version": "3.11.6"
  }
 },
 "nbformat": 4,
 "nbformat_minor": 2
}
