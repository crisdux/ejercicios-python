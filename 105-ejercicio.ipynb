{
 "cells": [
  {
   "cell_type": "code",
   "execution_count": 65,
   "metadata": {},
   "outputs": [],
   "source": [
    "# Dado un nombre y apellidos en formato \"apellidos, nombre\", obtenga las iniciales de dicha persona pasadas a mayúsculas y con      │\n",
    "# │ punto al final.                                                                                                                   │\n",
    "# │                                                                                                                                   │\n",
    "# │ Notas:                                                                                                                            │\n",
    "# │                                                                                                                                   │\n",
    "# │  • El nombre puede tener uno o dos elementos.                                                                                     │\n",
    "# │  • El apellido puede tener uno o dos elementos."
   ]
  },
  {
   "cell_type": "code",
   "execution_count": 66,
   "metadata": {},
   "outputs": [
    {
     "name": "stdout",
     "output_type": "stream",
     "text": [
      "S.D.Q.\n",
      "M.S.\n",
      "A.P.L.\n"
     ]
    }
   ],
   "source": [
    "def name_initials(fullname):\n",
    "    apellidos= (fullname.split(\",\")[0]).title().split(\" \")\n",
    "    nombres = (fullname.split(\",\")[1]).title().strip().split(\" \")\n",
    "    res_ap = \"\"\n",
    "    for apellido in apellidos:\n",
    "        res_ap += apellido[0] + \".\"\n",
    "\n",
    "    res_nom = \"\"\n",
    "    for nombre in nombres:\n",
    "        res_nom += nombre[0] + \".\"\n",
    "    \n",
    "    return res_nom[:2] + res_ap\n",
    "\n",
    "print(name_initials(\"Delgado Quintero, sergio\"))\n",
    "print(name_initials('sánchez, María'))\n",
    "print(name_initials( 'Prado López, Ana Belén'))\n"
   ]
  }
 ],
 "metadata": {
  "kernelspec": {
   "display_name": "Python 3",
   "language": "python",
   "name": "python3"
  },
  "language_info": {
   "codemirror_mode": {
    "name": "ipython",
    "version": 3
   },
   "file_extension": ".py",
   "mimetype": "text/x-python",
   "name": "python",
   "nbconvert_exporter": "python",
   "pygments_lexer": "ipython3",
   "version": "3.11.6"
  }
 },
 "nbformat": 4,
 "nbformat_minor": 2
}
