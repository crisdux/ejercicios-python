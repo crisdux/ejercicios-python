{
 "cells": [
  {
   "cell_type": "code",
   "execution_count": null,
   "metadata": {},
   "outputs": [],
   "source": [
    "# │ Dada una lista de palabras, escriba una función que devuelva dos listas, la primera con las palabras que vienen en minúsculas y   │\n",
    "# │ la segunda con las palabras que vienen en mayúsculas.                                                                             │\n",
    "# │                                                                                                                                   │\n",
    "# │ Notas:                                                                                                                            │\n",
    "# │                                                                                                                                   │\n",
    "# │  • Ignore aquellas palabras que mezclan mayúsculas y minúsculas."
   ]
  },
  {
   "cell_type": "code",
   "execution_count": 2,
   "metadata": {},
   "outputs": [
    {
     "name": "stdout",
     "output_type": "stream",
     "text": [
      "(['blanco', 'amarillo'], ['AZUL', 'NEGRO'])\n",
      "(['debian', 'ubuntu'], ['FEDORA', 'OPENSUSE'])\n",
      "(['python', 'c', 'javascript'], [])\n"
     ]
    }
   ],
   "source": [
    "def split_case(words):\n",
    "    palabras_lower = []\n",
    "    palabras_upper = []\n",
    "    \n",
    "    for item in words:\n",
    "        if item.isupper():\n",
    "            palabras_upper.append(item)\n",
    "        elif item.islower():\n",
    "            palabras_lower.append(item)\n",
    "    \n",
    "    return palabras_lower, palabras_upper\n",
    "    \n",
    "print(split_case(['AZUL', 'blanco', 'NEGRO', 'amarillo']))\n",
    "print(split_case(['FEDORA', 'debian', 'OPENSUSE', 'ubuntu', 'MacOS']))\n",
    "print(split_case(['python', 'c', 'javascript']))"
   ]
  }
 ],
 "metadata": {
  "kernelspec": {
   "display_name": "Python 3",
   "language": "python",
   "name": "python3"
  },
  "language_info": {
   "codemirror_mode": {
    "name": "ipython",
    "version": 3
   },
   "file_extension": ".py",
   "mimetype": "text/x-python",
   "name": "python",
   "nbconvert_exporter": "python",
   "pygments_lexer": "ipython3",
   "version": "3.11.6"
  }
 },
 "nbformat": 4,
 "nbformat_minor": 2
}
