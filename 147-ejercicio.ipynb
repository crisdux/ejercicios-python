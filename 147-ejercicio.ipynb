{
 "cells": [
  {
   "cell_type": "code",
   "execution_count": null,
   "metadata": {},
   "outputs": [],
   "source": [
    "# │ Cree una función que cuente el número de veces que aparece un determinado valor en una tupla.                                     │\n",
    "# │                                                                                                                                   │\n",
    "# │ Notas:                                                                                                                            │\n",
    "# │                                                                                                                                   │\n",
    "# │  • Se puede suponer que la tupla sólo contendrá valores numéricos enteros.                                                        │\n",
    "# │  • No se puede utilizar la función predefinida count()                                                                            │\n",
    "# │  • Utilice anotación de tipos y valores por defecto (según corresponda).                                                          │\n",
    "# │  • Documente la función siguiendo el formato Sphinx."
   ]
  },
  {
   "cell_type": "code",
   "execution_count": 3,
   "metadata": {},
   "outputs": [],
   "source": [
    "def mcount(items:tuple, target:int) -> int:\n",
    "    \"\"\"\n",
    "    :param [items]: tupla de enteros \n",
    "    :param [target]: elemento a buscar en items\n",
    "    :return: regresa la cantidad de items repetidos\n",
    "    :rtype: int\n",
    "    \"\"\"\n",
    "    list_items = list(items)\n",
    "    res = []\n",
    "    for item in list_items:\n",
    "        if item == target:\n",
    "            res.append(item)\n",
    "    return len(res)\n"
   ]
  },
  {
   "cell_type": "code",
   "execution_count": 4,
   "metadata": {},
   "outputs": [
    {
     "name": "stdout",
     "output_type": "stream",
     "text": [
      "4\n",
      "5\n",
      "0\n",
      "0\n"
     ]
    }
   ],
   "source": [
    "print(mcount( (1,2,3,1,1,5,6,1), 1 ))\n",
    "print(mcount( (2,2,2,2,2), 2 ))\n",
    "print(mcount( (1,2,3,4,5), 0 ))\n",
    "print(mcount( (), 1 ))"
   ]
  }
 ],
 "metadata": {
  "kernelspec": {
   "display_name": "Python 3",
   "language": "python",
   "name": "python3"
  },
  "language_info": {
   "codemirror_mode": {
    "name": "ipython",
    "version": 3
   },
   "file_extension": ".py",
   "mimetype": "text/x-python",
   "name": "python",
   "nbconvert_exporter": "python",
   "pygments_lexer": "ipython3",
   "version": "3.11.6"
  }
 },
 "nbformat": 4,
 "nbformat_minor": 2
}
