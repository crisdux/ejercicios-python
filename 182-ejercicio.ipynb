{
 "cells": [
  {
   "cell_type": "code",
   "execution_count": null,
   "metadata": {},
   "outputs": [],
   "source": [
    "#     Utiliza el conjunto del reto anterior,\n",
    "#     define un nuevo conjunto de mascotas,\n",
    "# encuentra la intersección de ambos conjuntos\n",
    "#     sin usar ciclos e imprime el resultado"
   ]
  },
  {
   "cell_type": "code",
   "execution_count": 1,
   "metadata": {},
   "outputs": [
    {
     "name": "stdout",
     "output_type": "stream",
     "text": [
      "{'gato', 'perro'}\n",
      "{'gato', 'perro'}\n"
     ]
    }
   ],
   "source": [
    "animales = {\"perro\", \"gato\", \"raton\", \"hormiga\", \"pantera\"}\n",
    "mascotas = {\"hamster\", \"conejo\", \"perro\", \"gato\"}\n",
    "\n",
    "interseccion = animales.intersection(mascotas)\n",
    "interseccion2 = animales & mascotas\n",
    "\n",
    "print(interseccion)\n",
    "print(interseccion2)"
   ]
  }
 ],
 "metadata": {
  "kernelspec": {
   "display_name": "Python 3",
   "language": "python",
   "name": "python3"
  },
  "language_info": {
   "codemirror_mode": {
    "name": "ipython",
    "version": 3
   },
   "file_extension": ".py",
   "mimetype": "text/x-python",
   "name": "python",
   "nbconvert_exporter": "python",
   "pygments_lexer": "ipython3",
   "version": "3.11.6"
  }
 },
 "nbformat": 4,
 "nbformat_minor": 2
}
