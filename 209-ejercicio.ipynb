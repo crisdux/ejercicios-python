{
 "cells": [
  {
   "cell_type": "code",
   "execution_count": null,
   "metadata": {},
   "outputs": [],
   "source": [
    "# Utiliza itertools para obtener los elementos\n",
    "#     de la siguiente lista hasta que alguno\n",
    "#             contenga un \"0\"\n",
    "#     [2, 3, 5, 7, 13, 103, 25, 15, 45]\n",
    "#     Imprime el resultado en una lista"
   ]
  },
  {
   "cell_type": "code",
   "execution_count": 1,
   "metadata": {},
   "outputs": [
    {
     "name": "stdout",
     "output_type": "stream",
     "text": [
      "[2, 3, 5, 7, 13]\n"
     ]
    }
   ],
   "source": [
    "import itertools\n",
    "\n",
    "data = [2, 3, 5, 7, 13, 103, 25, 15, 45]\n",
    "\n",
    "predicado = lambda x: \"0\" not in str(x)\n",
    "\n",
    "res = list(itertools.takewhile(predicado, data))\n",
    "print(res)"
   ]
  }
 ],
 "metadata": {
  "kernelspec": {
   "display_name": "Python 3",
   "language": "python",
   "name": "python3"
  },
  "language_info": {
   "codemirror_mode": {
    "name": "ipython",
    "version": 3
   },
   "file_extension": ".py",
   "mimetype": "text/x-python",
   "name": "python",
   "nbconvert_exporter": "python",
   "pygments_lexer": "ipython3",
   "version": "3.11.6"
  }
 },
 "nbformat": 4,
 "nbformat_minor": 2
}
