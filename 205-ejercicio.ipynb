{
 "cells": [
  {
   "cell_type": "code",
   "execution_count": null,
   "metadata": {},
   "outputs": [],
   "source": [
    "# Utiliza itertools para obtener el mensaje secreto\n",
    "#     en la siguiente cadena \"P1y2t3h4o5n6!7\"\n",
    "#     Imprime el resultado en una cadena\n",
    "#             Te dejamos una pista:\n",
    "#         [1,0,1,0,1,0,1,0,1,0,1,0,1]"
   ]
  },
  {
   "cell_type": "code",
   "execution_count": 3,
   "metadata": {},
   "outputs": [
    {
     "name": "stdout",
     "output_type": "stream",
     "text": [
      "Python!\n"
     ]
    }
   ],
   "source": [
    "import itertools\n",
    "txt = \"P1y2t3h4o5n6!7\"\n",
    "arr = [1,0,1,0,1,0,1,0,1,0,1,0,1]\n",
    "res = list(itertools.compress(txt, arr))\n",
    "print(\"\".join(res))"
   ]
  }
 ],
 "metadata": {
  "kernelspec": {
   "display_name": "Python 3",
   "language": "python",
   "name": "python3"
  },
  "language_info": {
   "codemirror_mode": {
    "name": "ipython",
    "version": 3
   },
   "file_extension": ".py",
   "mimetype": "text/x-python",
   "name": "python",
   "nbconvert_exporter": "python",
   "pygments_lexer": "ipython3",
   "version": "3.11.6"
  }
 },
 "nbformat": 4,
 "nbformat_minor": 2
}
