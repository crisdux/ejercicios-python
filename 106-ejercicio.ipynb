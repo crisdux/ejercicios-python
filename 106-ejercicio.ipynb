{
 "cells": [
  {
   "cell_type": "code",
   "execution_count": null,
   "metadata": {},
   "outputs": [],
   "source": [
    "# El objetivo es encontrar el primer número no consecutivo dentro de una lista de valores numéricos enteros. Si todos los valores   │\n",
    "# │ son consecutivos entonces el resultado debe ser None."
   ]
  },
  {
   "cell_type": "code",
   "execution_count": 21,
   "metadata": {},
   "outputs": [
    {
     "name": "stdout",
     "output_type": "stream",
     "text": [
      "6\n",
      "0\n",
      "None\n",
      "None\n",
      "None\n"
     ]
    }
   ],
   "source": [
    "def non_consecutive(values):\n",
    "    try:\n",
    "        for index, item in enumerate(values):\n",
    "            if item + 1 != values[index+1]:\n",
    "                return values[index+1]\n",
    "    except IndexError:\n",
    "        return None\n",
    "\n",
    "        \n",
    "print(non_consecutive([1, 2, 3, 4, 6, 7, 8]))\n",
    "print(non_consecutive( [-5, -4, -3, 0, 3, 4, 5]))\n",
    "print(non_consecutive( [101, 102, 103]))\n",
    "print(non_consecutive( [1]))\n",
    "print(non_consecutive( []))"
   ]
  }
 ],
 "metadata": {
  "kernelspec": {
   "display_name": "Python 3",
   "language": "python",
   "name": "python3"
  },
  "language_info": {
   "codemirror_mode": {
    "name": "ipython",
    "version": 3
   },
   "file_extension": ".py",
   "mimetype": "text/x-python",
   "name": "python",
   "nbconvert_exporter": "python",
   "pygments_lexer": "ipython3",
   "version": "3.11.6"
  }
 },
 "nbformat": 4,
 "nbformat_minor": 2
}
