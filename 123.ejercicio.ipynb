{
 "cells": [
  {
   "cell_type": "code",
   "execution_count": 20,
   "metadata": {},
   "outputs": [],
   "source": [
    "# │ Dada una lista de elementos y un elemento de dicha lista, devuelva el elemento que sigue al elemento dado. Si el elemento aparece │\n",
    "# │ más de una vez en la lista de entrada, devuelva el elemento después de la primera ocurrencia.                                     │\n",
    "# │                                                                                                                                   │\n",
    "# │ Cuando el elemento dado no esté presente* en la lista o *no haya ninguno a continuación, debería devolver None."
   ]
  },
  {
   "cell_type": "code",
   "execution_count": 21,
   "metadata": {},
   "outputs": [
    {
     "name": "stdout",
     "output_type": "stream",
     "text": [
      "None\n",
      "None\n",
      "verde\n",
      "4\n",
      "Noelia\n",
      "9.99\n"
     ]
    }
   ],
   "source": [
    "def whats_next(items, ref_item):\n",
    "    if ref_item not in items or items[-1] == ref_item:\n",
    "        return None\n",
    "    \n",
    "    list_index_items = []\n",
    "    for index, item in enumerate(items):\n",
    "        if item == ref_item:\n",
    "            list_index_items.append(index) \n",
    "    return items[min(list_index_items) + 1]\n",
    "    \n",
    "print(whats_next([1,2,3], 4))\n",
    "print(whats_next([1,2,3], 3))\n",
    "\n",
    "print(whats_next(['azul', 'amarillo', 'verde', 'amarillo', 'rojo'], \"amarillo\"))\n",
    "print(whats_next([1, 2, 3, 4, 5, 6, 7],3))\n",
    "print(whats_next(['Ana', 'Sara', 'Noelia'], \"Sara\"))\n",
    "print(whats_next([3.21, 9.54, 6.32, 9.99], 6.32))"
   ]
  }
 ],
 "metadata": {
  "kernelspec": {
   "display_name": "Python 3",
   "language": "python",
   "name": "python3"
  },
  "language_info": {
   "codemirror_mode": {
    "name": "ipython",
    "version": 3
   },
   "file_extension": ".py",
   "mimetype": "text/x-python",
   "name": "python",
   "nbconvert_exporter": "python",
   "pygments_lexer": "ipython3",
   "version": "3.11.6"
  }
 },
 "nbformat": 4,
 "nbformat_minor": 2
}
