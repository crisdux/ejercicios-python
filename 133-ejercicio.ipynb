{
 "cells": [
  {
   "cell_type": "code",
   "execution_count": null,
   "metadata": {},
   "outputs": [],
   "source": [
    "#  Dada una lista de palabras, agrúpelas por su letra inicial a través de un diccionario de listas."
   ]
  },
  {
   "cell_type": "code",
   "execution_count": 7,
   "metadata": {},
   "outputs": [
    {
     "name": "stdout",
     "output_type": "stream",
     "text": [
      "{'m': ['mesa', 'móvil', 'monitor'], 'b': ['barco', 'bandeja'], 'c': ['coche', 'casa', 'carretera'], 'a': ['avión', 'arco']}\n"
     ]
    }
   ],
   "source": [
    "def group_words(words):\n",
    "    res = {}\n",
    "    for palabra in words:\n",
    "        if palabra[0] not in res:\n",
    "            res[palabra[0]] = [palabra]\n",
    "        else:\n",
    "            res[palabra[0]].append(palabra)\n",
    "    return res\n",
    "\n",
    "print(group_words(['mesa', 'móvil', 'barco', 'coche', 'avión', 'bandeja','casa', 'monitor', 'carretera', 'arco']))"
   ]
  }
 ],
 "metadata": {
  "kernelspec": {
   "display_name": "Python 3",
   "language": "python",
   "name": "python3"
  },
  "language_info": {
   "codemirror_mode": {
    "name": "ipython",
    "version": 3
   },
   "file_extension": ".py",
   "mimetype": "text/x-python",
   "name": "python",
   "nbconvert_exporter": "python",
   "pygments_lexer": "ipython3",
   "version": "3.11.6"
  }
 },
 "nbformat": 4,
 "nbformat_minor": 2
}
