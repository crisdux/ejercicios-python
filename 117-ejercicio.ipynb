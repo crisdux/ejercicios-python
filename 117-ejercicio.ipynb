{
 "cells": [
  {
   "cell_type": "code",
   "execution_count": null,
   "metadata": {},
   "outputs": [],
   "source": [
    "#  Como datos de entrada tendrá dos listas representando las dimensiones de sendos cuboides: \n",
    "\n",
    "#  Debe calcular la diferencia de volumen entre los dos cuboides como valor positivo, indpendientemente de qué cuboide sea mayor. "
   ]
  },
  {
   "cell_type": "code",
   "execution_count": 4,
   "metadata": {},
   "outputs": [
    {
     "name": "stdout",
     "output_type": "stream",
     "text": [
      "8\n",
      "30\n",
      "0\n"
     ]
    }
   ],
   "source": [
    "def calculo_areas_cubos(cuboid):\n",
    "    prod = 1\n",
    "    for item in cuboid:\n",
    "        prod *= item\n",
    "    return prod\n",
    "# print(calculo_areas_cubos( [5, 4, 1]))\n",
    "\n",
    "def diff_cuboid(cuboid1, cuboid2):\n",
    "    a_cuboid = calculo_areas_cubos(cuboid1)\n",
    "    b_cuboid = calculo_areas_cubos(cuboid2)\n",
    "\n",
    "    if a_cuboid > b_cuboid:\n",
    "        return a_cuboid - b_cuboid\n",
    "    elif a_cuboid < b_cuboid:\n",
    "        return b_cuboid - a_cuboid\n",
    "    else:\n",
    "        return 0\n",
    "    \n",
    "print(diff_cuboid([2, 2, 3],  [5, 4, 1] ))\n",
    "    \n",
    "print(diff_cuboid([3, 4, 2],  [9, 1, 6]))\n",
    "    \n",
    "print(diff_cuboid( [1, 1, 1],  [1, 1, 1]))\n"
   ]
  }
 ],
 "metadata": {
  "kernelspec": {
   "display_name": "Python 3",
   "language": "python",
   "name": "python3"
  },
  "language_info": {
   "codemirror_mode": {
    "name": "ipython",
    "version": 3
   },
   "file_extension": ".py",
   "mimetype": "text/x-python",
   "name": "python",
   "nbconvert_exporter": "python",
   "pygments_lexer": "ipython3",
   "version": "3.11.6"
  }
 },
 "nbformat": 4,
 "nbformat_minor": 2
}
