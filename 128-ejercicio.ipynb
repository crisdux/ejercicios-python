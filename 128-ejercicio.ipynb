{
 "cells": [
  {
   "cell_type": "code",
   "execution_count": 1,
   "metadata": {},
   "outputs": [
    {
     "name": "stdout",
     "output_type": "stream",
     "text": [
      "['a', 'b', 'x', 'y', 'z', 'c', 'd']\n",
      "[1, 2, 3, 4]\n",
      "[1, 2, 3, 4]\n"
     ]
    }
   ],
   "source": [
    "def aplanar_lista(lista):\n",
    "    lista_aplanada = []\n",
    "    for elemento in lista:\n",
    "        if isinstance(elemento, list):\n",
    "            lista_aplanada.extend(aplanar_lista(elemento))\n",
    "        else:\n",
    "            lista_aplanada.append(elemento)\n",
    "    return lista_aplanada\n",
    "\n",
    "print(aplanar_lista(['a', ['b', ['x', ['y', 'z']], 'c'], 'd']))\n",
    "print(aplanar_lista( [[1], [2], [3], [4]]))\n",
    "print(aplanar_lista([[1, [2, [3], [4]]]]))\n"
   ]
  }
 ],
 "metadata": {
  "kernelspec": {
   "display_name": "Python 3",
   "language": "python",
   "name": "python3"
  },
  "language_info": {
   "codemirror_mode": {
    "name": "ipython",
    "version": 3
   },
   "file_extension": ".py",
   "mimetype": "text/x-python",
   "name": "python",
   "nbconvert_exporter": "python",
   "pygments_lexer": "ipython3",
   "version": "3.11.6"
  }
 },
 "nbformat": 4,
 "nbformat_minor": 2
}
