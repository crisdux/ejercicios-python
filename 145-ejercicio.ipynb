{
 "cells": [
  {
   "cell_type": "code",
   "execution_count": 38,
   "metadata": {},
   "outputs": [
    {
     "name": "stdout",
     "output_type": "stream",
     "text": [
      "Fuera de rango. Escribe otro numero\n",
      "Mas bajo\n",
      "Mas alto\n",
      "Mas bajo\n",
      "Mas bajo\n",
      "Mas alto\n",
      "Mas alto\n",
      "Mas bajo\n",
      "Mas bajo\n",
      "Ganaste!, el numero era: 66\n"
     ]
    }
   ],
   "source": [
    "from random import randint\n",
    "\n",
    "def generar_numero_aleatorio():\n",
    "    return randint(1,100)\n",
    "\n",
    "def adivina_el_numero():\n",
    "    numero_maquina = generar_numero_aleatorio() # 55\n",
    "    numero_jugador = int(input(\"Escribe un numero entre 1 y 100\")) # 70\n",
    "\n",
    "    if numero_jugador >100 or numero_jugador < 1:\n",
    "        print(\"Fuera de rango. Escribe otro numero\")\n",
    "        numero_jugador = int(input(\"Escribe un numero entre 1 y 100\"))\n",
    "\n",
    "    while numero_maquina != numero_jugador:\n",
    "        if(numero_jugador > numero_maquina):\n",
    "            print(\"Mas bajo\")\n",
    "            numero_jugador = int(input(\"Escribe un numero entre 1 y 100\"))\n",
    "        elif numero_jugador < numero_maquina:\n",
    "            print(\"Mas alto\")\n",
    "            numero_jugador = int(input(\"Escribe un numero entre 1 y 100\"))\n",
    "    \n",
    "    return f\"Ganaste!, el numero era: {numero_maquina}\"\n",
    "\n",
    "print(adivina_el_numero())\n"
   ]
  }
 ],
 "metadata": {
  "kernelspec": {
   "display_name": "Python 3",
   "language": "python",
   "name": "python3"
  },
  "language_info": {
   "codemirror_mode": {
    "name": "ipython",
    "version": 3
   },
   "file_extension": ".py",
   "mimetype": "text/x-python",
   "name": "python",
   "nbconvert_exporter": "python",
   "pygments_lexer": "ipython3",
   "version": "3.11.6"
  }
 },
 "nbformat": 4,
 "nbformat_minor": 2
}
