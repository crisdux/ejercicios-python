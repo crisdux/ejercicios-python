{
 "cells": [
  {
   "cell_type": "code",
   "execution_count": 1,
   "metadata": {},
   "outputs": [],
   "source": [
    "# │ Escriba una función en Python que indique si un número está en un determinado intervalo.                                          │\n",
    "# │                                                                                                                                   │\n",
    "# │ Notas:                                                                                                                            │\n",
    "# │                                                                                                                                   │\n",
    "# │  • Los límites deben tenerse en cuenta como parte del intervalo.                                                                  │\n",
    "# │  • El número debe ser obligatoriamente un parámetro posicional."
   ]
  },
  {
   "cell_type": "code",
   "execution_count": 3,
   "metadata": {},
   "outputs": [
    {
     "name": "stdout",
     "output_type": "stream",
     "text": [
      "True\n",
      "True\n",
      "True\n",
      "False\n"
     ]
    }
   ],
   "source": [
    "def num_in_interval(value:int, /, lower_limit:int, upper_limit:int) -> bool:\n",
    "    interval = list(range(lower_limit, upper_limit+1))\n",
    "    return value in interval\n",
    "    \n",
    "print(num_in_interval(3,2,5))\n",
    "print(num_in_interval(10,10,10))\n",
    "print(num_in_interval(-1,-10,10))\n",
    "print(num_in_interval(5,0,1))"
   ]
  }
 ],
 "metadata": {
  "kernelspec": {
   "display_name": "Python 3",
   "language": "python",
   "name": "python3"
  },
  "language_info": {
   "codemirror_mode": {
    "name": "ipython",
    "version": 3
   },
   "file_extension": ".py",
   "mimetype": "text/x-python",
   "name": "python",
   "nbconvert_exporter": "python",
   "pygments_lexer": "ipython3",
   "version": "3.11.6"
  }
 },
 "nbformat": 4,
 "nbformat_minor": 2
}
