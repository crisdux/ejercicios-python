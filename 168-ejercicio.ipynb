{
 "cells": [
  {
   "cell_type": "code",
   "execution_count": null,
   "metadata": {},
   "outputs": [],
   "source": [
    "# Utiliza la lista de compras del reto anterior\n",
    "# para agregarle un nuevo elemento al final\n",
    "#             e imprime la lista"
   ]
  },
  {
   "cell_type": "code",
   "execution_count": 1,
   "metadata": {},
   "outputs": [
    {
     "name": "stdout",
     "output_type": "stream",
     "text": [
      "['tomates', 'pollo', 'cebollas', 'navos', 'fresas']\n",
      "['tomates', 'pollo', 'cebollas', 'navos', 'fresas', 'limones']\n"
     ]
    }
   ],
   "source": [
    "compras = [\"tomates\", \"pollo\", \"cebollas\", \"navos\", \"fresas\"]\n",
    "print(compras)\n",
    "\n",
    "compras.append(\"limones\")\n",
    "print(compras)"
   ]
  }
 ],
 "metadata": {
  "kernelspec": {
   "display_name": "Python 3",
   "language": "python",
   "name": "python3"
  },
  "language_info": {
   "codemirror_mode": {
    "name": "ipython",
    "version": 3
   },
   "file_extension": ".py",
   "mimetype": "text/x-python",
   "name": "python",
   "nbconvert_exporter": "python",
   "pygments_lexer": "ipython3",
   "version": "3.11.6"
  }
 },
 "nbformat": 4,
 "nbformat_minor": 2
}
