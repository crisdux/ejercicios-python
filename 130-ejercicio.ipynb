{
 "cells": [
  {
   "cell_type": "code",
   "execution_count": 4,
   "metadata": {},
   "outputs": [
    {
     "name": "stdout",
     "output_type": "stream",
     "text": [
      "{'b': 1, 'o': 2, 'm': 1}\n",
      "{'a': 2, 'd': 1}\n",
      "{'t': 1, 'r': 1, 'e': 2}\n",
      "{'d': 1, 'e': 1, 'b': 1, 'u': 1, 'g': 3, 'i': 1, 'n': 1}\n"
     ]
    }
   ],
   "source": [
    "def count_letters(sentence):\n",
    "    res = {}\n",
    "    for letra in sentence:\n",
    "        if letra not in res:\n",
    "            res[letra] = 1\n",
    "        else:\n",
    "            res[letra] = res[letra] +1\n",
    "    return res\n",
    "\n",
    "print(count_letters(\"boom\"))\n",
    "print(count_letters(\"ada\"))\n",
    "print(count_letters(\"tree\"))\n",
    "print(count_letters(\"debugging\"))"
   ]
  }
 ],
 "metadata": {
  "kernelspec": {
   "display_name": "Python 3",
   "language": "python",
   "name": "python3"
  },
  "language_info": {
   "codemirror_mode": {
    "name": "ipython",
    "version": 3
   },
   "file_extension": ".py",
   "mimetype": "text/x-python",
   "name": "python",
   "nbconvert_exporter": "python",
   "pygments_lexer": "ipython3",
   "version": "3.11.6"
  }
 },
 "nbformat": 4,
 "nbformat_minor": 2
}
