{
 "cells": [
  {
   "cell_type": "code",
   "execution_count": null,
   "metadata": {},
   "outputs": [],
   "source": [
    "# Escriba una función en Python que determine si una cadena de texto es un pangrama."
   ]
  },
  {
   "cell_type": "code",
   "execution_count": 1,
   "metadata": {},
   "outputs": [
    {
     "name": "stdout",
     "output_type": "stream",
     "text": [
      "True\n",
      "True\n",
      "True\n",
      "False\n"
     ]
    }
   ],
   "source": [
    "def pangram(text):\n",
    "    text = set(text.replace(\" \", \"\").lower())\n",
    "    abc = set(\"abcdefghijklmnopqrstuvwxyz\")\n",
    "    return text == abc\n",
    "    \n",
    "print(pangram('The quick brown fox jumps over the lazy dog'))\n",
    "print(pangram('Sylvia wagt quick den Jux bei Pforzheim'))\n",
    "print(pangram('Portez ce whisky au vieux juge blond qui fume'))\n",
    "print(pangram('No soy un pangrama'))\n",
    "\n"
   ]
  }
 ],
 "metadata": {
  "kernelspec": {
   "display_name": "Python 3",
   "language": "python",
   "name": "python3"
  },
  "language_info": {
   "codemirror_mode": {
    "name": "ipython",
    "version": 3
   },
   "file_extension": ".py",
   "mimetype": "text/x-python",
   "name": "python",
   "nbconvert_exporter": "python",
   "pygments_lexer": "ipython3",
   "version": "3.11.6"
  }
 },
 "nbformat": 4,
 "nbformat_minor": 2
}
