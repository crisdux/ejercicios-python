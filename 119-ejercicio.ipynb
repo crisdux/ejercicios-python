{
 "cells": [
  {
   "cell_type": "code",
   "execution_count": 31,
   "metadata": {},
   "outputs": [
    {
     "name": "stdout",
     "output_type": "stream",
     "text": [
      "False\n",
      "True\n",
      "True\n",
      "False\n"
     ]
    }
   ],
   "source": [
    "def logical_chain(values, oper):\n",
    "    res = \"\"\n",
    "    for i in values:\n",
    "        res += str(i) + \" \" + oper + \" \"\n",
    "    res2 = res.split()\n",
    "    del res2[-1]\n",
    "    return eval(\" \".join(res2))\n",
    "\n",
    "print(logical_chain([True, True, False], \"and\"))\n",
    "print(logical_chain([True, True, False], \"or\"))\n",
    "print(logical_chain( [True, True, True], \"and\"))\n",
    "print(logical_chain([False, False, False], \"and\"))\n"
   ]
  }
 ],
 "metadata": {
  "kernelspec": {
   "display_name": "Python 3",
   "language": "python",
   "name": "python3"
  },
  "language_info": {
   "codemirror_mode": {
    "name": "ipython",
    "version": 3
   },
   "file_extension": ".py",
   "mimetype": "text/x-python",
   "name": "python",
   "nbconvert_exporter": "python",
   "pygments_lexer": "ipython3",
   "version": "3.11.6"
  }
 },
 "nbformat": 4,
 "nbformat_minor": 2
}
