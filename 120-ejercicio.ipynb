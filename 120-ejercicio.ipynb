{
 "cells": [
  {
   "cell_type": "code",
   "execution_count": null,
   "metadata": {},
   "outputs": [],
   "source": [
    "#  Dada una lista de números enteros positivos representando identificadores únicos de objetos, determine cuál es el menor           │\n",
    "# │ identificador sin usar.                                                                                                           │\n",
    "# │                                                                                                                                   │\n",
    "# │ Notas:                                                                                                                            │\n",
    "# │                                                                                                                                   │\n",
    "# │  • Puede suponer que no habrán valores repetidos en la lista de entrada.                                                          │\n",
    "# │  • Los identificadores \"válidos\" empiezan en 1."
   ]
  },
  {
   "cell_type": "code",
   "execution_count": 24,
   "metadata": {},
   "outputs": [
    {
     "name": "stdout",
     "output_type": "stream",
     "text": [
      "2\n",
      "1\n",
      "4\n",
      "5\n"
     ]
    }
   ],
   "source": [
    "def smallest_unused_id(ids):\n",
    "    ids_sorted = sorted(ids)\n",
    "    ids_min_max = []\n",
    "    for i in range(1, max(ids)+1):\n",
    "        ids_min_max.append(i)\n",
    "    for i, j in zip(ids_sorted, ids_min_max):\n",
    "        if i != j:\n",
    "            return j\n",
    "        elif len(ids_sorted) == len(ids_min_max) and i == j:\n",
    "            return ids_sorted[-1] + 1\n",
    "    \n",
    "\n",
    "print(smallest_unused_id([3, 1, 8, 4, 9]))\n",
    "print(smallest_unused_id([7, 2, 12, 21, 5]))\n",
    "print(smallest_unused_id( [1, 2, 3, 5, 10, 7]))\n",
    "print(smallest_unused_id( [4, 3, 2, 1]))"
   ]
  }
 ],
 "metadata": {
  "kernelspec": {
   "display_name": "Python 3",
   "language": "python",
   "name": "python3"
  },
  "language_info": {
   "codemirror_mode": {
    "name": "ipython",
    "version": 3
   },
   "file_extension": ".py",
   "mimetype": "text/x-python",
   "name": "python",
   "nbconvert_exporter": "python",
   "pygments_lexer": "ipython3",
   "version": "3.11.6"
  }
 },
 "nbformat": 4,
 "nbformat_minor": 2
}
