{
 "cells": [
  {
   "cell_type": "code",
   "execution_count": 10,
   "metadata": {},
   "outputs": [
    {
     "name": "stdout",
     "output_type": "stream",
     "text": [
      "-11\n",
      "-9\n",
      "-8\n"
     ]
    }
   ],
   "source": [
    "def min_value(values):\n",
    "    res = 0\n",
    "    for index, value in enumerate(values):\n",
    "        if value < res:\n",
    "            res = value\n",
    "    return res\n",
    "\n",
    "print(min_value([-11, 10, -6, 15, -1]))\n",
    "print(min_value([5, 9, -6, 9, -2, -9, -7, 2]))\n",
    "print(min_value([-7, -5, -5, -8, -3]))\n"
   ]
  }
 ],
 "metadata": {
  "kernelspec": {
   "display_name": "Python 3",
   "language": "python",
   "name": "python3"
  },
  "language_info": {
   "codemirror_mode": {
    "name": "ipython",
    "version": 3
   },
   "file_extension": ".py",
   "mimetype": "text/x-python",
   "name": "python",
   "nbconvert_exporter": "python",
   "pygments_lexer": "ipython3",
   "version": "3.11.6"
  }
 },
 "nbformat": 4,
 "nbformat_minor": 2
}
