{
 "cells": [
  {
   "cell_type": "code",
   "execution_count": null,
   "metadata": {},
   "outputs": [],
   "source": [
    "# │ Dado un diccionario cuyos valores son listas, genere un diccionario nuevo donde se borre el contenido de dichas listas.           │\n",
    "# │                                                                                                                                   │\n",
    "# │ Resuelva el ejercicio utilizando diccionarios por comprensión."
   ]
  },
  {
   "cell_type": "code",
   "execution_count": 1,
   "metadata": {},
   "outputs": [
    {
     "name": "stdout",
     "output_type": "stream",
     "text": [
      "{'C1': [], 'C2': [], 'C3': []}\n"
     ]
    }
   ],
   "source": [
    "def clear_dict_values(items):\n",
    "    res = {}\n",
    "    llaves = items.keys()\n",
    "    for i in llaves:\n",
    "        res[i] = []\n",
    "    return res\n",
    "\n",
    "print(clear_dict_values({'C1': [10, 20, 30], 'C2': [20, 30, 40], 'C3': [12, 34]}))"
   ]
  }
 ],
 "metadata": {
  "kernelspec": {
   "display_name": "Python 3",
   "language": "python",
   "name": "python3"
  },
  "language_info": {
   "codemirror_mode": {
    "name": "ipython",
    "version": 3
   },
   "file_extension": ".py",
   "mimetype": "text/x-python",
   "name": "python",
   "nbconvert_exporter": "python",
   "pygments_lexer": "ipython3",
   "version": "3.11.6"
  }
 },
 "nbformat": 4,
 "nbformat_minor": 2
}
