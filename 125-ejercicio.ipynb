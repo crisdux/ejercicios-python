{
 "cells": [
  {
   "cell_type": "code",
   "execution_count": 13,
   "metadata": {},
   "outputs": [],
   "source": [
    "#  Dada una cadena de texto conteniendo palabras separadas por espacios, obtenga una lista que contenga cada palabra    │\n",
    "# │ junto a su tamaño."
   ]
  },
  {
   "cell_type": "code",
   "execution_count": 14,
   "metadata": {},
   "outputs": [
    {
     "name": "stdout",
     "output_type": "stream",
     "text": [
      "['todo 4', 'se 2', 'transforma 10']\n",
      "['prueba 6']\n",
      "['tiene 5', 'mucha 5', 'importancia 11']\n"
     ]
    }
   ],
   "source": [
    "def add_length(text):\n",
    "    len_palabras = []\n",
    "    for palabra in text.split():\n",
    "        len_palabras.append(len(palabra))\n",
    "    res = []\n",
    "    for palabra, index in zip(text.split(), len_palabras):\n",
    "        res.append(f\"{palabra} {index}\")\n",
    "    return res\n",
    "\n",
    "print(add_length(\"todo se transforma\"))\n",
    "print(add_length( 'prueba'))\n",
    "print(add_length('tiene mucha importancia'))"
   ]
  }
 ],
 "metadata": {
  "kernelspec": {
   "display_name": "Python 3",
   "language": "python",
   "name": "python3"
  },
  "language_info": {
   "codemirror_mode": {
    "name": "ipython",
    "version": 3
   },
   "file_extension": ".py",
   "mimetype": "text/x-python",
   "name": "python",
   "nbconvert_exporter": "python",
   "pygments_lexer": "ipython3",
   "version": "3.11.6"
  }
 },
 "nbformat": 4,
 "nbformat_minor": 2
}
