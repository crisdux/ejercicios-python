{
 "cells": [
  {
   "cell_type": "code",
   "execution_count": null,
   "metadata": {},
   "outputs": [],
   "source": [
    "# │ A partir de un diccionario, obtenga un nuevo diccionario eliminando los espacios de sus claves respetando los valores             │\n",
    "# │ correspondientes."
   ]
  },
  {
   "cell_type": "code",
   "execution_count": 31,
   "metadata": {},
   "outputs": [
    {
     "name": "stdout",
     "output_type": "stream",
     "text": [
      "{'S001': ['Math', 'Science'], 'S002': ['Math', 'English']}\n"
     ]
    }
   ],
   "source": [
    "def fix_keys(items):\n",
    "    llaves = list(items.keys())\n",
    "    valores = list(items.values())\n",
    "    lista_sin_espacios = [cadena.replace(\" \", \"\") for cadena in llaves]\n",
    "    res = {}\n",
    "    for l, v in zip(lista_sin_espacios, valores):\n",
    "        res[l] = v\n",
    "\n",
    "    return res\n",
    "\n",
    "                \n",
    "\n",
    "print(fix_keys( {'S  001': ['Math', 'Science'], 'S    002': ['Math', 'English']}))"
   ]
  },
  {
   "cell_type": "markdown",
   "metadata": {},
   "source": []
  }
 ],
 "metadata": {
  "kernelspec": {
   "display_name": "Python 3",
   "language": "python",
   "name": "python3"
  },
  "language_info": {
   "codemirror_mode": {
    "name": "ipython",
    "version": 3
   },
   "file_extension": ".py",
   "mimetype": "text/x-python",
   "name": "python",
   "nbconvert_exporter": "python",
   "pygments_lexer": "ipython3",
   "version": "3.11.6"
  }
 },
 "nbformat": 4,
 "nbformat_minor": 2
}
