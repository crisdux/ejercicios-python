{
 "cells": [
  {
   "cell_type": "code",
   "execution_count": null,
   "metadata": {},
   "outputs": [],
   "source": [
    "#     Declara una variable numérica con valor 100\n",
    "# Decrementa su valor de 10 en 10 mientras no sea 0\n",
    "#         Imprime el valor de la variable\n",
    "#                 en cada iteración"
   ]
  },
  {
   "cell_type": "code",
   "execution_count": 3,
   "metadata": {},
   "outputs": [
    {
     "name": "stdout",
     "output_type": "stream",
     "text": [
      "1 90\n",
      "2 80\n",
      "3 70\n",
      "4 60\n",
      "5 50\n",
      "6 40\n",
      "7 30\n",
      "8 20\n",
      "9 10\n",
      "10 0\n"
     ]
    }
   ],
   "source": [
    "numero = 100\n",
    "iteracion = 0\n",
    "while numero != 0:\n",
    "    numero = numero - 10\n",
    "    iteracion = iteracion+1\n",
    "    print(f\"{iteracion} {numero}\")\n",
    "\n"
   ]
  }
 ],
 "metadata": {
  "kernelspec": {
   "display_name": "Python 3",
   "language": "python",
   "name": "python3"
  },
  "language_info": {
   "codemirror_mode": {
    "name": "ipython",
    "version": 3
   },
   "file_extension": ".py",
   "mimetype": "text/x-python",
   "name": "python",
   "nbconvert_exporter": "python",
   "pygments_lexer": "ipython3",
   "version": "3.11.6"
  }
 },
 "nbformat": 4,
 "nbformat_minor": 2
}
