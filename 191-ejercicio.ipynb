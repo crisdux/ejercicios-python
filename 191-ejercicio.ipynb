{
 "cells": [
  {
   "cell_type": "code",
   "execution_count": null,
   "metadata": {},
   "outputs": [],
   "source": [
    "# Crea una función que calcule el volumen de un cilindro\n",
    "#     Los parámetros de entrada son base y altura\n",
    "#     El valor de salida el el volumen del cilindro\n",
    "# Ejecuta la función para el caso base= 5, altura= 7\n",
    "#             Imprime el resultado"
   ]
  },
  {
   "cell_type": "code",
   "execution_count": 1,
   "metadata": {},
   "outputs": [
    {
     "name": "stdout",
     "output_type": "stream",
     "text": [
      "137.44467859455344\n"
     ]
    }
   ],
   "source": [
    "from math import pi\n",
    "\n",
    "def volumen_cilindro(base, altura):\n",
    "    return pi * altura * (base / 2)**2\n",
    "\n",
    "print(volumen_cilindro(5,7))"
   ]
  }
 ],
 "metadata": {
  "kernelspec": {
   "display_name": "Python 3",
   "language": "python",
   "name": "python3"
  },
  "language_info": {
   "codemirror_mode": {
    "name": "ipython",
    "version": 3
   },
   "file_extension": ".py",
   "mimetype": "text/x-python",
   "name": "python",
   "nbconvert_exporter": "python",
   "pygments_lexer": "ipython3",
   "version": "3.11.6"
  }
 },
 "nbformat": 4,
 "nbformat_minor": 2
}
