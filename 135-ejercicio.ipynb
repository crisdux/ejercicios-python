{
 "cells": [
  {
   "cell_type": "code",
   "execution_count": 28,
   "metadata": {},
   "outputs": [
    {
     "name": "stdout",
     "output_type": "stream",
     "text": [
      "['Episode IV - A New Hope', 'May 25', 1977, 'George Lucas']\n",
      "['Episode V - The Empire Strikes Back', 'May 21', 1980]\n",
      "['Episode VI - Return of the Jedi', 'May 25', 1983]\n",
      "None\n"
     ]
    }
   ],
   "source": [
    "#  Dada lista de listas con varios elementos, obtenga un diccionario donde las claves serán los primeros elementos de las sublistas  │\n",
    "# │ y los valores serán los restantes (como listas)."
   ]
  },
  {
   "cell_type": "code",
   "execution_count": 36,
   "metadata": {},
   "outputs": [
    {
     "name": "stdout",
     "output_type": "stream",
     "text": [
      "{'Episode IV - A New Hope': ['May 25', 1977, 'George Lucas'], 'Episode V - The Empire Strikes Back': ['May 21', 1980], 'Episode VI - Return of the Jedi': ['May 25', 1983]}\n"
     ]
    }
   ],
   "source": [
    "def build_super_dict(items):\n",
    "    res = {}\n",
    "    for key in items:\n",
    "        x = key[1:]\n",
    "        res[key[0]] = x\n",
    "        \n",
    "    return res\n",
    "print(build_super_dict([['Episode IV - A New Hope', 'May 25', 1977, 'George Lucas'], ['Episode V - The Empire Strikes Back', 'May 21', 1980], ['Episode VI - Return of the Jedi', 'May 25', 1983]]))"
   ]
  },
  {
   "cell_type": "code",
   "execution_count": null,
   "metadata": {},
   "outputs": [],
   "source": []
  }
 ],
 "metadata": {
  "kernelspec": {
   "display_name": "Python 3",
   "language": "python",
   "name": "python3"
  },
  "language_info": {
   "codemirror_mode": {
    "name": "ipython",
    "version": 3
   },
   "file_extension": ".py",
   "mimetype": "text/x-python",
   "name": "python",
   "nbconvert_exporter": "python",
   "pygments_lexer": "ipython3",
   "version": "3.11.6"
  }
 },
 "nbformat": 4,
 "nbformat_minor": 2
}
