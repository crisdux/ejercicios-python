{
 "cells": [
  {
   "cell_type": "code",
   "execution_count": null,
   "metadata": {},
   "outputs": [],
   "source": [
    "# │ Somos responsables del inventario de una empresa. A final de mes nos llega una cadena de texto indicando los movimientos del      │\n",
    "# │ inventario. Esta cadena de texto tiene el formato siguiente:                                                                      │\n",
    "# │                                                                                                                                   │\n",
    "# │                                                                                                                                   │\n",
    "# │  <mov_art>,<mov_art>,<mov_art>,...                                                                                                │\n",
    "# │                                                                                                                                   │\n",
    "# │                                                                                                                                   │\n",
    "# │ El objetivo es saber el estado final del inventario de cada artículo a través de un diccionario donde las claves son los          │\n",
    "# │ artículos y los valores son la cantidad de artículos existentes.                                                                  │\n",
    "# │                                                                                                                                   │\n",
    "# │ Notas:                                                                                                                            │\n",
    "# │                                                                                                                                   │\n",
    "# │  • El inventario puede quedar en números negativos.                                                                               │\n",
    "# │  • Los nombres de los artículos son letras (cadenas de texto de 1 caracter).                                                      │\n",
    "# │  • Las modificaciones de inventario siempre son números enteros (pueden ser negativos)."
   ]
  },
  {
   "cell_type": "code",
   "execution_count": 34,
   "metadata": {},
   "outputs": [
    {
     "name": "stdout",
     "output_type": "stream",
     "text": [
      "{'A': 6, 'B': 5, 'C': 4}\n",
      "{'X': -6, 'Y': 10, 'Z': -1, 'W': 5}\n",
      "{'R': 20, 'S': 5}\n"
     ]
    }
   ],
   "source": [
    "def invetory_moves(imoves):\n",
    "    my_list = imoves.split(\",\")\n",
    "    res =  {}\n",
    "    for i in my_list:\n",
    "        if i[0] not in res:\n",
    "            res[i[0]]= i[1:]\n",
    "        else:\n",
    "            res[i[0]] += \"+\" + i[1:]\n",
    "    return { key: eval(value) for key, value in res.items() }\n",
    "\n",
    "\n",
    "print(invetory_moves('A1,B4,A-2,A7,B1,C4'))\n",
    "print(invetory_moves('X2,Y9,Z3,Y-2,Z-4,Y3,X-8,W5'))\n",
    "print(invetory_moves('R-2,S0,S2,S-8,R21,R-3,S11,R4'))"
   ]
  }
 ],
 "metadata": {
  "kernelspec": {
   "display_name": "Python 3",
   "language": "python",
   "name": "python3"
  },
  "language_info": {
   "codemirror_mode": {
    "name": "ipython",
    "version": 3
   },
   "file_extension": ".py",
   "mimetype": "text/x-python",
   "name": "python",
   "nbconvert_exporter": "python",
   "pygments_lexer": "ipython3",
   "version": "3.11.6"
  }
 },
 "nbformat": 4,
 "nbformat_minor": 2
}
