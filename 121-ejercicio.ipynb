{
 "cells": [
  {
   "cell_type": "code",
   "execution_count": 1,
   "metadata": {},
   "outputs": [],
   "source": [
    "#  Devuelva una lista únicamente con los números impares que vienen en la entrada. Tenga en cuenta que pueden venir valores          │\n",
    "# │ repetidos en la entrada."
   ]
  },
  {
   "cell_type": "code",
   "execution_count": 2,
   "metadata": {},
   "outputs": [
    {
     "name": "stdout",
     "output_type": "stream",
     "text": [
      "[1, 3, 5]\n",
      "[1, 3]\n",
      "[]\n"
     ]
    }
   ],
   "source": [
    "def find_odds(values):\n",
    "    odds = []\n",
    "    for value in values:\n",
    "        if value not in odds and value % 2 != 0:\n",
    "            odds.append(value)\n",
    "        else:\n",
    "            continue\n",
    "    return odds\n",
    "\n",
    "print(find_odds([1, 2, 3, 4, 5]))\n",
    "print(find_odds([1, 1, 2, 2, 3, 3]))\n",
    "print(find_odds([2, 4, 6]))"
   ]
  }
 ],
 "metadata": {
  "kernelspec": {
   "display_name": "Python 3",
   "language": "python",
   "name": "python3"
  },
  "language_info": {
   "codemirror_mode": {
    "name": "ipython",
    "version": 3
   },
   "file_extension": ".py",
   "mimetype": "text/x-python",
   "name": "python",
   "nbconvert_exporter": "python",
   "pygments_lexer": "ipython3",
   "version": "3.11.6"
  }
 },
 "nbformat": 4,
 "nbformat_minor": 2
}
