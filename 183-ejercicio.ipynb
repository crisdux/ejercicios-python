{
 "cells": [
  {
   "cell_type": "code",
   "execution_count": null,
   "metadata": {},
   "outputs": [],
   "source": [
    "    # Utiliza los conjunto del reto anterior,\n",
    "    # para encontrar la unión de ambos conjuntos\n",
    "    # sin usar ciclos e imprime el resultado"
   ]
  },
  {
   "cell_type": "code",
   "execution_count": 4,
   "metadata": {},
   "outputs": [
    {
     "name": "stdout",
     "output_type": "stream",
     "text": [
      "{'gato', 'pantera', 'perro', 'conejo', 'hamster', 'raton', 'hormiga'}\n",
      "{'gato', 'pantera', 'perro', 'conejo', 'hamster', 'raton', 'hormiga'}\n"
     ]
    }
   ],
   "source": [
    "animales = {\"perro\", \"gato\", \"raton\", \"hormiga\", \"pantera\"}\n",
    "mascotas = {\"hamster\", \"conejo\", \"perro\", \"gato\"}\n",
    "\n",
    "union = animales.union(mascotas)\n",
    "union2 = animales | mascotas\n",
    "\n",
    "print(union)\n",
    "print(union2)"
   ]
  }
 ],
 "metadata": {
  "kernelspec": {
   "display_name": "Python 3",
   "language": "python",
   "name": "python3"
  },
  "language_info": {
   "codemirror_mode": {
    "name": "ipython",
    "version": 3
   },
   "file_extension": ".py",
   "mimetype": "text/x-python",
   "name": "python",
   "nbconvert_exporter": "python",
   "pygments_lexer": "ipython3",
   "version": "3.11.6"
  }
 },
 "nbformat": 4,
 "nbformat_minor": 2
}
