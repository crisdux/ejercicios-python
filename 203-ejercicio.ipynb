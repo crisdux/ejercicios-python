{
 "cells": [
  {
   "cell_type": "code",
   "execution_count": null,
   "metadata": {},
   "outputs": [],
   "source": [
    "# Utiliza itertools para obtener todas las permutaciones\n",
    "#         posibles con las letras de la siguiente lista\n",
    "#                 [\"r\", \"i\", \"o\"]\n",
    "#         Imprime el resultado en una lista de tuplas"
   ]
  },
  {
   "cell_type": "code",
   "execution_count": 2,
   "metadata": {},
   "outputs": [
    {
     "name": "stdout",
     "output_type": "stream",
     "text": [
      "[('r', 'i', 'o'), ('r', 'o', 'i'), ('i', 'r', 'o'), ('i', 'o', 'r'), ('o', 'r', 'i'), ('o', 'i', 'r')]\n"
     ]
    }
   ],
   "source": [
    "import itertools\n",
    "\n",
    "data = [\"r\", \"i\", \"o\"]\n",
    "\n",
    "res = list(itertools.permutations(data))\n",
    "print(res)"
   ]
  }
 ],
 "metadata": {
  "kernelspec": {
   "display_name": "Python 3",
   "language": "python",
   "name": "python3"
  },
  "language_info": {
   "codemirror_mode": {
    "name": "ipython",
    "version": 3
   },
   "file_extension": ".py",
   "mimetype": "text/x-python",
   "name": "python",
   "nbconvert_exporter": "python",
   "pygments_lexer": "ipython3",
   "version": "3.11.6"
  }
 },
 "nbformat": 4,
 "nbformat_minor": 2
}
