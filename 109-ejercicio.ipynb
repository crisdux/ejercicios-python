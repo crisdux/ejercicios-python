{
 "cells": [
  {
   "cell_type": "code",
   "execution_count": 14,
   "metadata": {},
   "outputs": [],
   "source": [
    "#  Dada una lista de valores numéricos, obtenga la suma de los valores invertidos."
   ]
  },
  {
   "cell_type": "code",
   "execution_count": 15,
   "metadata": {},
   "outputs": [
    {
     "name": "stdout",
     "output_type": "stream",
     "text": [
      "-15\n",
      "3\n",
      "-3\n"
     ]
    }
   ],
   "source": [
    "def sum_inverse(numbers):\n",
    "    res = []\n",
    "    for i in numbers:\n",
    "        res.append(i * -1)\n",
    "    return sum(res)\n",
    "\n",
    "print(sum_inverse( [1, 2, 3, 4, 5]))\n",
    "print(sum_inverse( [-1, 2, -3, 4, -5]))\n",
    "print(sum_inverse( [1, -2, 3, -4, 5]))"
   ]
  }
 ],
 "metadata": {
  "kernelspec": {
   "display_name": "Python 3",
   "language": "python",
   "name": "python3"
  },
  "language_info": {
   "codemirror_mode": {
    "name": "ipython",
    "version": 3
   },
   "file_extension": ".py",
   "mimetype": "text/x-python",
   "name": "python",
   "nbconvert_exporter": "python",
   "pygments_lexer": "ipython3",
   "version": "3.11.6"
  }
 },
 "nbformat": 4,
 "nbformat_minor": 2
}
