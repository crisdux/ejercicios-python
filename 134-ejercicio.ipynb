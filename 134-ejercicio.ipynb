{
 "cells": [
  {
   "cell_type": "code",
   "execution_count": null,
   "metadata": {},
   "outputs": [],
   "source": [
    "#  Acepte un diccionario como entrada y compruebe si todos sus valores son iguales o no."
   ]
  },
  {
   "cell_type": "code",
   "execution_count": 12,
   "metadata": {},
   "outputs": [
    {
     "name": "stdout",
     "output_type": "stream",
     "text": [
      "True\n",
      "False\n",
      "False\n",
      "True\n",
      "True\n"
     ]
    }
   ],
   "source": [
    "def same_dict_values(items):\n",
    "    v = list(items.values())\n",
    "    c = 0\n",
    "    for index, value in enumerate(v):\n",
    "        if value != v[index-1]:\n",
    "            c = c + 1\n",
    "    if c == 0:\n",
    "        return True\n",
    "    return False\n",
    "\n",
    "print(same_dict_values({'a': 1, 'b': 1, 'c': 1, 'd': 1}))\n",
    "print(same_dict_values({'a': 1, 'b': 2, 'c': 3, 'd': 4}))\n",
    "print(same_dict_values({1: 'a', 2: 'b', 3: 'c', 4: 'd'}))\n",
    "print(same_dict_values({1: 'a', 2: 'a', 3: 'a', 4: 'a'}))\n",
    "print(same_dict_values({}))"
   ]
  }
 ],
 "metadata": {
  "kernelspec": {
   "display_name": "Python 3",
   "language": "python",
   "name": "python3"
  },
  "language_info": {
   "codemirror_mode": {
    "name": "ipython",
    "version": 3
   },
   "file_extension": ".py",
   "mimetype": "text/x-python",
   "name": "python",
   "nbconvert_exporter": "python",
   "pygments_lexer": "ipython3",
   "version": "3.11.6"
  }
 },
 "nbformat": 4,
 "nbformat_minor": 2
}
