{
 "cells": [
  {
   "cell_type": "code",
   "execution_count": null,
   "metadata": {},
   "outputs": [],
   "source": [
    "# Utiliza la función copy() para crear una\n",
    "# copia de la lista de compras utilizada en\n",
    "# el reto anterior, compara sus ids en memoria\n",
    "# e imprime el resultado"
   ]
  },
  {
   "cell_type": "code",
   "execution_count": 2,
   "metadata": {},
   "outputs": [
    {
     "name": "stdout",
     "output_type": "stream",
     "text": [
      "False\n",
      "compras => 2739015424064\n",
      "copy_compras => 2739015703552\n"
     ]
    }
   ],
   "source": [
    "compras = [\"tomates\", \"pollo\", \"cebollas\", \"navos\", \"fresas\"]\n",
    "copy_compras = compras.copy()\n",
    "\n",
    "print(id(compras) == id(copy_compras))\n",
    "\n",
    "print(f\"compras => {id(compras)}\" )\n",
    "print(f\"copy_compras => {id(copy_compras)}\" )"
   ]
  }
 ],
 "metadata": {
  "kernelspec": {
   "display_name": "Python 3",
   "language": "python",
   "name": "python3"
  },
  "language_info": {
   "codemirror_mode": {
    "name": "ipython",
    "version": 3
   },
   "file_extension": ".py",
   "mimetype": "text/x-python",
   "name": "python",
   "nbconvert_exporter": "python",
   "pygments_lexer": "ipython3",
   "version": "3.11.6"
  }
 },
 "nbformat": 4,
 "nbformat_minor": 2
}
