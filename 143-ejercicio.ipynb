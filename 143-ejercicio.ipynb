{
 "cells": [
  {
   "cell_type": "code",
   "execution_count": 5,
   "metadata": {},
   "outputs": [
    {
     "name": "stdout",
     "output_type": "stream",
     "text": [
      "['Cristian\\n']\n"
     ]
    }
   ],
   "source": [
    "# Escriba una función en Python que reproduzca lo siguiente:                                                           │\n",
    "# │                                                                                                                      │\n",
    "# │                                                                                                                      │\n",
    "# │             2    2                                                                                                   │\n",
    "# │  f(x, y) = x  + y"
   ]
  },
  {
   "cell_type": "code",
   "execution_count": 1,
   "metadata": {},
   "outputs": [
    {
     "name": "stdout",
     "output_type": "stream",
     "text": [
      "25\n",
      "74\n",
      "68\n"
     ]
    }
   ],
   "source": [
    "def squared_sum(x, y):\n",
    "    return (x*x)+(y*y)\n",
    "\n",
    "\n",
    "print(squared_sum(3,4))\n",
    "print(squared_sum(-5, -7))\n",
    "print(squared_sum(-2,8))"
   ]
  }
 ],
 "metadata": {
  "kernelspec": {
   "display_name": "Python 3",
   "language": "python",
   "name": "python3"
  },
  "language_info": {
   "codemirror_mode": {
    "name": "ipython",
    "version": 3
   },
   "file_extension": ".py",
   "mimetype": "text/x-python",
   "name": "python",
   "nbconvert_exporter": "python",
   "pygments_lexer": "ipython3",
   "version": "3.11.6"
  }
 },
 "nbformat": 4,
 "nbformat_minor": 2
}
