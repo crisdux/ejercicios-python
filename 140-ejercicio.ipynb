{
 "cells": [
  {
   "cell_type": "code",
   "execution_count": 5,
   "metadata": {},
   "outputs": [],
   "source": [
    "# dado un diccionario de frutas con sus precios, regresar otro diccionario con el precio de las frutas rebajadas al 10%"
   ]
  },
  {
   "cell_type": "code",
   "execution_count": 3,
   "metadata": {},
   "outputs": [],
   "source": [
    "def descuentos_frutas(frutas):\n",
    "    for key, value in frutas.items():\n",
    "        frutas[key] = round((value * 10) / 100, 2)\n",
    "    return frutas"
   ]
  },
  {
   "cell_type": "code",
   "execution_count": 4,
   "metadata": {},
   "outputs": [
    {
     "name": "stdout",
     "output_type": "stream",
     "text": [
      "{'apple': 4.0, 'orange': 3.5, 'banana': 2.5}\n"
     ]
    }
   ],
   "source": [
    "print(descuentos_frutas({\"apple\": 40, \"orange\": 35, \"banana\": 25}))"
   ]
  }
 ],
 "metadata": {
  "kernelspec": {
   "display_name": "Python 3",
   "language": "python",
   "name": "python3"
  },
  "language_info": {
   "codemirror_mode": {
    "name": "ipython",
    "version": 3
   },
   "file_extension": ".py",
   "mimetype": "text/x-python",
   "name": "python",
   "nbconvert_exporter": "python",
   "pygments_lexer": "ipython3",
   "version": "3.11.6"
  }
 },
 "nbformat": 4,
 "nbformat_minor": 2
}
