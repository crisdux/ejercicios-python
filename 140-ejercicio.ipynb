{
 "cells": [
  {
   "cell_type": "code",
   "execution_count": null,
   "metadata": {},
   "outputs": [
    {
     "ename": "",
     "evalue": "",
     "output_type": "error",
     "traceback": [
      "\u001b[1;31mNo se pudo iniciar el Kernel. \n",
      "\u001b[1;31mNo se ha podido iniciar el Kernel \"Python 3.11.6\" debido a un tiempo de espera para que se utilicen los puertos. \n",
      "\u001b[1;31mVer Jupyter <a href='command:jupyter.viewOutput'>log</a> para más detalles."
     ]
    }
   ],
   "source": [
    "# dado un diccionario de frutas con sus precios, regresar otro diccionario con el precio de las frutas rebajadas al 10%"
   ]
  },
  {
   "cell_type": "code",
   "execution_count": 3,
   "metadata": {},
   "outputs": [],
   "source": [
    "def descuentos_frutas(frutas):\n",
    "    for key, value in frutas.items():\n",
    "        frutas[key] = round((value * 10) / 100, 2)\n",
    "    return frutas"
   ]
  },
  {
   "cell_type": "code",
   "execution_count": 4,
   "metadata": {},
   "outputs": [
    {
     "name": "stdout",
     "output_type": "stream",
     "text": [
      "{'apple': 4.0, 'orange': 3.5, 'banana': 2.5}\n"
     ]
    }
   ],
   "source": [
    "print(descuentos_frutas({\"apple\": 40, \"orange\": 35, \"banana\": 25}))"
   ]
  }
 ],
 "metadata": {
  "kernelspec": {
   "display_name": "Python 3",
   "language": "python",
   "name": "python3"
  },
  "language_info": {
   "codemirror_mode": {
    "name": "ipython",
    "version": 3
   },
   "file_extension": ".py",
   "mimetype": "text/x-python",
   "name": "python",
   "nbconvert_exporter": "python",
   "pygments_lexer": "ipython3",
   "version": "3.11.6"
  }
 },
 "nbformat": 4,
 "nbformat_minor": 2
}
