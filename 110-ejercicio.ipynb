{
 "cells": [
  {
   "cell_type": "code",
   "execution_count": 2,
   "metadata": {},
   "outputs": [
    {
     "name": "stdout",
     "output_type": "stream",
     "text": [
      "20\n",
      "0\n",
      "15\n",
      "0\n"
     ]
    }
   ],
   "source": [
    "def sum_positive(numbers):\n",
    "    res = 0\n",
    "    for i in numbers:\n",
    "        if i > 0:\n",
    "            res += i\n",
    "    return res\n",
    "\n",
    "print(sum_positive([1, -4, 7, 12]))\n",
    "print(sum_positive([-1, -1, -1, -1, -1, -1]))\n",
    "print(sum_positive([1, -1, 2, -2, 3, -3, 4, -4, 5, -5]))\n",
    "print(sum_positive([]))"
   ]
  }
 ],
 "metadata": {
  "kernelspec": {
   "display_name": "Python 3",
   "language": "python",
   "name": "python3"
  },
  "language_info": {
   "codemirror_mode": {
    "name": "ipython",
    "version": 3
   },
   "file_extension": ".py",
   "mimetype": "text/x-python",
   "name": "python",
   "nbconvert_exporter": "python",
   "pygments_lexer": "ipython3",
   "version": "3.11.6"
  }
 },
 "nbformat": 4,
 "nbformat_minor": 2
}
