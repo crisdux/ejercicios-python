{
 "cells": [
  {
   "cell_type": "code",
   "execution_count": 50,
   "metadata": {},
   "outputs": [],
   "source": [
    "# │ Dada una lista de valores numéricos, calcule la suma de todos sus elementos sin tener en cuenta el valor máximo y el valor        │\n",
    "# │ mínimo.                                                                                                                           │\n",
    "# │                                                                                                                                   │\n",
    "# │ NOTAS:                                                                                                                            │\n",
    "# │                                                                                                                                   │\n",
    "# │  • Puede haber varios valores máximos o varios valores mínimos (repeticiones).                                                    │\n",
    "# │  • Puede venir la lista vacía como entrada."
   ]
  },
  {
   "cell_type": "code",
   "execution_count": 51,
   "metadata": {},
   "outputs": [
    {
     "name": "stdout",
     "output_type": "stream",
     "text": [
      "[1, 11, 2, 3]\n",
      "[1]\n"
     ]
    }
   ],
   "source": [
    "def remove_dups(values):\n",
    "    for index, value in enumerate(values):\n",
    "        if value == values[index-1]:\n",
    "            values.remove(value)\n",
    "    return values\n",
    "print(remove_dups([1, 1, 11, 2, 3]))\n",
    "print(remove_dups([1,1]))\n"
   ]
  },
  {
   "cell_type": "code",
   "execution_count": 52,
   "metadata": {},
   "outputs": [
    {
     "name": "stdout",
     "output_type": "stream",
     "text": [
      "16\n",
      "5\n",
      "0\n",
      "0\n",
      "0\n",
      "0\n"
     ]
    }
   ],
   "source": [
    "def trimmed_sum(values):\n",
    "    if len(values) <= 1:\n",
    "        return 0\n",
    "    values_remove_dups = remove_dups(values)\n",
    "    min_val = min(values_remove_dups)\n",
    "    max_val = max(values_remove_dups)\n",
    "    if len(values) <= 1:\n",
    "        return 0\n",
    "    values_remove_dups.remove(min_val)\n",
    "    values_remove_dups.remove(max_val)\n",
    "    return sum(values_remove_dups)\n",
    "\n",
    "print(trimmed_sum([6, 2, 1, 8, 10]))\n",
    "print(trimmed_sum([1, 1, 11, 2, 3]))\n",
    "print(trimmed_sum([1]))\n",
    "print(trimmed_sum([1, 1]))\n",
    "print(trimmed_sum([1, 2]))\n",
    "print(trimmed_sum([]))"
   ]
  }
 ],
 "metadata": {
  "kernelspec": {
   "display_name": "Python 3",
   "language": "python",
   "name": "python3"
  },
  "language_info": {
   "codemirror_mode": {
    "name": "ipython",
    "version": 3
   },
   "file_extension": ".py",
   "mimetype": "text/x-python",
   "name": "python",
   "nbconvert_exporter": "python",
   "pygments_lexer": "ipython3",
   "version": "3.11.6"
  }
 },
 "nbformat": 4,
 "nbformat_minor": 2
}
