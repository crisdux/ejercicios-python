{
 "cells": [
  {
   "cell_type": "code",
   "execution_count": null,
   "metadata": {},
   "outputs": [],
   "source": [
    "# Utiliza el diccionario de palabras del reto\n",
    "# anterior para eliminar el primer elemento del\n",
    "# diccionario, imprime la cantidad de elementos\n",
    "#             del diccionario"
   ]
  },
  {
   "cell_type": "code",
   "execution_count": 1,
   "metadata": {},
   "outputs": [
    {
     "name": "stdout",
     "output_type": "stream",
     "text": [
      "{'laravel': 'framework web back', 'angular': 'framework web front', 'java': 'zzz', 'javascript': 'lenguaje raro'}\n",
      "4\n"
     ]
    }
   ],
   "source": [
    "lenguajes = {\n",
    "    \"python\": \"el mejor lenguaje de programacion\",\n",
    "    \"laravel\": \"framework web back\",\n",
    "    \"angular\": \"framework web front\",\n",
    "    \"java\": \"zzz\",\n",
    "    \"javascript\": \"lenguaje raro\"\n",
    "}\n",
    "\n",
    "del lenguajes[\"python\"]\n",
    "print(lenguajes)\n",
    "print(len(lenguajes))"
   ]
  }
 ],
 "metadata": {
  "kernelspec": {
   "display_name": "Python 3",
   "language": "python",
   "name": "python3"
  },
  "language_info": {
   "codemirror_mode": {
    "name": "ipython",
    "version": 3
   },
   "file_extension": ".py",
   "mimetype": "text/x-python",
   "name": "python",
   "nbconvert_exporter": "python",
   "pygments_lexer": "ipython3",
   "version": "3.11.6"
  }
 },
 "nbformat": 4,
 "nbformat_minor": 2
}
