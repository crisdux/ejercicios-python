{
 "cells": [
  {
   "cell_type": "code",
   "execution_count": null,
   "metadata": {},
   "outputs": [],
   "source": [
    "#  Escriba una función en Python que reciba una lista de valores enteros y devuelva otra lista sólo con aquellos valores pares."
   ]
  },
  {
   "cell_type": "code",
   "execution_count": 2,
   "metadata": {},
   "outputs": [
    {
     "name": "stdout",
     "output_type": "stream",
     "text": [
      "[2, 4, 6, 8]\n",
      "[8, 6, 2, 4]\n",
      "[]\n",
      "[]\n",
      "[2, 2, 2]\n"
     ]
    }
   ],
   "source": [
    "def extract_evens(values):\n",
    "    res = list(filter(lambda item: item % 2 == 0,values))\n",
    "    return res\n",
    "    \n",
    "print(extract_evens([1,2,3,4,5,6,7,8,9]))\n",
    "print(extract_evens([8,6,1,2,3,4]))\n",
    "print(extract_evens([]))\n",
    "print(extract_evens([1,3,5]))\n",
    "print(extract_evens([2,2,2]))"
   ]
  }
 ],
 "metadata": {
  "kernelspec": {
   "display_name": "Python 3",
   "language": "python",
   "name": "python3"
  },
  "language_info": {
   "codemirror_mode": {
    "name": "ipython",
    "version": 3
   },
   "file_extension": ".py",
   "mimetype": "text/x-python",
   "name": "python",
   "nbconvert_exporter": "python",
   "pygments_lexer": "ipython3",
   "version": "3.11.6"
  }
 },
 "nbformat": 4,
 "nbformat_minor": 2
}
