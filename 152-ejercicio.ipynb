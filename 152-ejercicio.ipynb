{
 "cells": [
  {
   "cell_type": "code",
   "execution_count": null,
   "metadata": {},
   "outputs": [],
   "source": [
    "# │ Escriba una función en Python que indique si un número es perfecto. Utilice una función auxiliar que calcule los divisores        │\n",
    "# │ propios."
   ]
  },
  {
   "cell_type": "code",
   "execution_count": 2,
   "metadata": {},
   "outputs": [
    {
     "name": "stdout",
     "output_type": "stream",
     "text": [
      "True\n",
      "True\n",
      "False\n",
      "False\n",
      "True\n"
     ]
    }
   ],
   "source": [
    "from functools import reduce\n",
    "\n",
    "def perfect(n):\n",
    "    res= []\n",
    "    for i in range(2,n+1):\n",
    "        res.append(i)\n",
    "    division = list(map(lambda item: n/item,res))\n",
    "    enteros = list(filter(lambda item: item % 1 == 0, division))\n",
    "    total = reduce(lambda x,y: x+y, enteros)\n",
    "    return total == n\n",
    "        \n",
    "print(perfect(6))\n",
    "print(perfect(496))\n",
    "print(perfect(512))\n",
    "print(perfect(1024))\n",
    "print(perfect(8128))"
   ]
  }
 ],
 "metadata": {
  "kernelspec": {
   "display_name": "Python 3",
   "language": "python",
   "name": "python3"
  },
  "language_info": {
   "codemirror_mode": {
    "name": "ipython",
    "version": 3
   },
   "file_extension": ".py",
   "mimetype": "text/x-python",
   "name": "python",
   "nbconvert_exporter": "python",
   "pygments_lexer": "ipython3",
   "version": "3.11.6"
  }
 },
 "nbformat": 4,
 "nbformat_minor": 2
}
