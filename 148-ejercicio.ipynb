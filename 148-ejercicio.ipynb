{
 "cells": [
  {
   "cell_type": "code",
   "execution_count": null,
   "metadata": {},
   "outputs": [],
   "source": [
    "# │ Dada una lista que representa a personas y cuyos elementos son diccionarios, se pide ordenar la lista por el campo age de cada    │\n",
    "# │ diccionario.                                                                                                                      │\n",
    "# │                                                                                                                                   │\n",
    "# │ Notas:                                                                                                                            │\n",
    "# │                                                                                                                                   │\n",
    "# │  • Utilice la función predefinida sorted()"
   ]
  },
  {
   "cell_type": "code",
   "execution_count": 1,
   "metadata": {},
   "outputs": [
    {
     "name": "stdout",
     "output_type": "stream",
     "text": [
      "[{'id': 3, 'nombre': 'Pepa', 'edad': 29}, {'id': 4, 'nombre': 'Carlos', 'edad': 34}, {'id': 2, 'nombre': 'Ana', 'edad': 45}, {'id': 1, 'nombre': 'Ronald', 'edad': 58}]\n"
     ]
    }
   ],
   "source": [
    "def sort_ages(people):\n",
    "    return sorted(people, key= lambda x:x[\"edad\"])\n",
    "    \n",
    "print(sort_ages([\n",
    "    {\"id\":1, \"nombre\":\"Ronald\", \"edad\":58},\n",
    "    {\"id\":2, \"nombre\":\"Ana\", \"edad\":45},\n",
    "    {\"id\":3, \"nombre\":\"Pepa\", \"edad\":29},\n",
    "    {\"id\":4, \"nombre\":\"Carlos\", \"edad\":34},\n",
    "]))"
   ]
  }
 ],
 "metadata": {
  "kernelspec": {
   "display_name": "Python 3",
   "language": "python",
   "name": "python3"
  },
  "language_info": {
   "codemirror_mode": {
    "name": "ipython",
    "version": 3
   },
   "file_extension": ".py",
   "mimetype": "text/x-python",
   "name": "python",
   "nbconvert_exporter": "python",
   "pygments_lexer": "ipython3",
   "version": "3.11.6"
  }
 },
 "nbformat": 4,
 "nbformat_minor": 2
}
