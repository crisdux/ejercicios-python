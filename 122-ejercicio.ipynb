{
 "cells": [
  {
   "cell_type": "code",
   "execution_count": 47,
   "metadata": {},
   "outputs": [],
   "source": [
    "#  Dado un string que contiene palabras separadas por espacio, obtenga otro string donde las palabras estén en orden    │\n",
    "# │ inverso. En la cadena de salida todo el texto debe quedar en minúsculas."
   ]
  },
  {
   "cell_type": "code",
   "execution_count": 48,
   "metadata": {},
   "outputs": [
    {
     "name": "stdout",
     "output_type": "stream",
     "text": [
      "world hello\n",
      "python es esto\n",
      "comprobación de caso último\n"
     ]
    }
   ],
   "source": [
    "def reversing_words(text):\n",
    "    text = text.lower()\n",
    "    return \" \".join(text.split()[::-1])\n",
    "\n",
    "print(reversing_words(\"Hello World\"))\n",
    "print(reversing_words('Esto es Python'))\n",
    "print(reversing_words('último caso de comprobación'))\n"
   ]
  },
  {
   "cell_type": "markdown",
   "metadata": {},
   "source": []
  }
 ],
 "metadata": {
  "kernelspec": {
   "display_name": "Python 3",
   "language": "python",
   "name": "python3"
  },
  "language_info": {
   "codemirror_mode": {
    "name": "ipython",
    "version": 3
   },
   "file_extension": ".py",
   "mimetype": "text/x-python",
   "name": "python",
   "nbconvert_exporter": "python",
   "pygments_lexer": "ipython3",
   "version": "3.11.6"
  }
 },
 "nbformat": 4,
 "nbformat_minor": 2
}
