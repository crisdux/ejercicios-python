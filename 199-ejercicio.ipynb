{
 "cells": [
  {
   "cell_type": "code",
   "execution_count": null,
   "metadata": {},
   "outputs": [],
   "source": [
    "# Utiliza una función lambda para capitalizar las\n",
    "#         palabras de la siguiente lista\n",
    "# [\"llevo\", \"sesenta\", \"dias\", \"programando\",\"wiii\"]\n",
    "#         Imprime el resultado en nueva lista"
   ]
  },
  {
   "cell_type": "code",
   "execution_count": 2,
   "metadata": {},
   "outputs": [
    {
     "name": "stdout",
     "output_type": "stream",
     "text": [
      "['Llevo', 'Sesenta', 'Dias', 'Programando', 'Wiii']\n",
      "['Llevo', 'Sesenta', 'Dias', 'Programando', 'Wiii']\n"
     ]
    }
   ],
   "source": [
    "arr = [\"llevo\", \"sesenta\", \"dias\", \"programando\", \"wiii\"]\n",
    "\n",
    "res = list(map(lambda x: x.capitalize(), arr))\n",
    "\n",
    "print(res)\n",
    "\n",
    "print([ item.capitalize() for item in arr ])"
   ]
  }
 ],
 "metadata": {
  "kernelspec": {
   "display_name": "Python 3",
   "language": "python",
   "name": "python3"
  },
  "language_info": {
   "codemirror_mode": {
    "name": "ipython",
    "version": 3
   },
   "file_extension": ".py",
   "mimetype": "text/x-python",
   "name": "python",
   "nbconvert_exporter": "python",
   "pygments_lexer": "ipython3",
   "version": "3.11.6"
  }
 },
 "nbformat": 4,
 "nbformat_minor": 2
}
