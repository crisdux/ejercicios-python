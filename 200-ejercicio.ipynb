{
 "cells": [
  {
   "cell_type": "code",
   "execution_count": null,
   "metadata": {},
   "outputs": [],
   "source": [
    "#     Crea una función recursiva para hacer una\n",
    "#             cuenta regresiva a 0\n",
    "# La función tiene como parámetro de entrada un número\n",
    "#     Ejecuta la función para el número 5\n",
    "# Imprime el valor de la cuenta en cada iteración"
   ]
  },
  {
   "cell_type": "code",
   "execution_count": null,
   "metadata": {},
   "outputs": [],
   "source": [
    "\"\"\"\n",
    "    Bienvenido al día 55 de #100diasdepython\n",
    "            El reto de hoy es:\n",
    "    Crea una función recursiva para hacer una\n",
    "            cuenta regresiva a 0\n",
    "La función tiene como parámetro de entrada un número\n",
    "    Ejecuta la función para el número 5\n",
    "Imprime el valor de la cuenta en cada iteración\n",
    "\"\"\"\n"
   ]
  },
  {
   "cell_type": "code",
   "execution_count": 5,
   "metadata": {},
   "outputs": [
    {
     "name": "stdout",
     "output_type": "stream",
     "text": [
      "5\n",
      "4\n",
      "3\n",
      "2\n",
      "1\n",
      "0\n",
      "None\n"
     ]
    }
   ],
   "source": [
    "def atras(num: int):\n",
    "    print(num)\n",
    "    num = num - 1\n",
    "    if num >= 0:\n",
    "        atras(num)\n",
    "\n",
    "print(atras(5))"
   ]
  }
 ],
 "metadata": {
  "kernelspec": {
   "display_name": "Python 3",
   "language": "python",
   "name": "python3"
  },
  "language_info": {
   "codemirror_mode": {
    "name": "ipython",
    "version": 3
   },
   "file_extension": ".py",
   "mimetype": "text/x-python",
   "name": "python",
   "nbconvert_exporter": "python",
   "pygments_lexer": "ipython3",
   "version": "3.11.6"
  }
 },
 "nbformat": 4,
 "nbformat_minor": 2
}
