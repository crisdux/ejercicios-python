{
 "cells": [
  {
   "cell_type": "code",
   "execution_count": 8,
   "metadata": {},
   "outputs": [],
   "source": [
    "# │ Dada una lista de números enteros positivos y un número no negativo N, calcule el valor del elemento en la posición N elevado a   │\n",
    "# │ N.                                                                                                                                │\n",
    "# │                                                                                                                                   │\n",
    "# │ Ejemplo: [1, 2, 3, 4] y N=2, el resultado sería 3^2 = 9                                                                           │\n",
    "# │                                                                                                                                   │\n",
    "# │ Notas:                                                                                                                            │\n",
    "# │                                                                                                                                   │\n",
    "# │  • Si N está fuera de rango, hay que devolver el valor -1.                                                                        │\n",
    "# │  • N se representa por \"power\" en el parámetro de entrada."
   ]
  },
  {
   "cell_type": "code",
   "execution_count": 9,
   "metadata": {},
   "outputs": [],
   "source": [
    "def nth_power(values, power):\n",
    "    res = -1\n",
    "    for index, value in enumerate(values):\n",
    "        if index == power:\n",
    "            res = value ** power\n",
    "    return res\n"
   ]
  },
  {
   "cell_type": "code",
   "execution_count": 10,
   "metadata": {},
   "outputs": [
    {
     "name": "stdout",
     "output_type": "stream",
     "text": [
      "9\n",
      "-1\n",
      "6250000\n"
     ]
    }
   ],
   "source": [
    "print(nth_power( [1, 2, 3, 4], 2))\n",
    "print(nth_power([1, 2, 3], 3))\n",
    "print(nth_power( [10, 20, 30, 40, 50], 4))"
   ]
  }
 ],
 "metadata": {
  "kernelspec": {
   "display_name": "Python 3",
   "language": "python",
   "name": "python3"
  },
  "language_info": {
   "codemirror_mode": {
    "name": "ipython",
    "version": 3
   },
   "file_extension": ".py",
   "mimetype": "text/x-python",
   "name": "python",
   "nbconvert_exporter": "python",
   "pygments_lexer": "ipython3",
   "version": "3.11.6"
  }
 },
 "nbformat": 4,
 "nbformat_minor": 2
}
