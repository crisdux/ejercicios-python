{
 "cells": [
  {
   "cell_type": "markdown",
   "metadata": {},
   "source": [
    "Dada una lista, genere otra lista eliminando los elementos que ocupan posiciones pares (tal y como lo vería un \"ser humano no programador\")."
   ]
  },
  {
   "cell_type": "code",
   "execution_count": 81,
   "metadata": {},
   "outputs": [],
   "source": [
    "def remove_second(items):\n",
    "    res = []\n",
    "    for index, item in enumerate(items):\n",
    "        if( index % 2 == 0):\n",
    "            res.append(item)\n",
    "    return res"
   ]
  },
  {
   "cell_type": "code",
   "execution_count": 82,
   "metadata": {},
   "outputs": [
    {
     "name": "stdout",
     "output_type": "stream",
     "text": [
      "[1, 1, 1]\n",
      "['a', 'a', 'a']\n",
      "[1, 2, 3]\n"
     ]
    }
   ],
   "source": [
    "print(remove_second([1, 2, 1, 2, 1, 2]))\n",
    "print(remove_second(['a', 'b', 'a', 'b', 'a']))\n",
    "print(remove_second([1, 1, 2, 2, 3, 3]))"
   ]
  }
 ],
 "metadata": {
  "kernelspec": {
   "display_name": "Python 3",
   "language": "python",
   "name": "python3"
  },
  "language_info": {
   "codemirror_mode": {
    "name": "ipython",
    "version": 3
   },
   "file_extension": ".py",
   "mimetype": "text/x-python",
   "name": "python",
   "nbconvert_exporter": "python",
   "pygments_lexer": "ipython3",
   "version": "3.11.6"
  }
 },
 "nbformat": 4,
 "nbformat_minor": 2
}
