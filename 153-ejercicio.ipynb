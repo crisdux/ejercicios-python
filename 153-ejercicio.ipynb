{
 "cells": [
  {
   "cell_type": "code",
   "execution_count": null,
   "metadata": {},
   "outputs": [],
   "source": [
    "#  Escriba una función en Python que determine si una cadena de texto es un palíndromo."
   ]
  },
  {
   "cell_type": "code",
   "execution_count": 2,
   "metadata": {},
   "outputs": [
    {
     "name": "stdout",
     "output_type": "stream",
     "text": [
      "True\n",
      "True\n",
      "True\n",
      "True\n",
      "False\n"
     ]
    }
   ],
   "source": [
    "def palindrome(text):\n",
    "    cadena_sin_espacios = text.replace(\" \", \"\").lower()\n",
    "    lista_palabras = list(cadena_sin_espacios)\n",
    "    lista_palabras_reverso = list(reversed(lista_palabras))\n",
    "    return \"\".join(lista_palabras_reverso) == cadena_sin_espacios\n",
    "    \n",
    "print(palindrome('ana lava lana'))\n",
    "print(palindrome('Yo dono rosas oro no doy'))\n",
    "print(palindrome('yo soy'))\n",
    "print(palindrome('La ruta natural'))\n",
    "print(palindrome('No soy un palíndromo'))"
   ]
  }
 ],
 "metadata": {
  "kernelspec": {
   "display_name": "Python 3",
   "language": "python",
   "name": "python3"
  },
  "language_info": {
   "codemirror_mode": {
    "name": "ipython",
    "version": 3
   },
   "file_extension": ".py",
   "mimetype": "text/x-python",
   "name": "python",
   "nbconvert_exporter": "python",
   "pygments_lexer": "ipython3",
   "version": "3.11.6"
  }
 },
 "nbformat": 4,
 "nbformat_minor": 2
}
