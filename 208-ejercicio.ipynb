{
 "cells": [
  {
   "cell_type": "code",
   "execution_count": null,
   "metadata": {},
   "outputs": [],
   "source": [
    "# Utiliza itertools para unir las siguientes\n",
    "#     tuplas (78, 100) (\"Dias\", \"Python\")\n",
    "#     Obtiene el tipo de cada dato e\n",
    "#     imprime el resultado en una lista"
   ]
  },
  {
   "cell_type": "code",
   "execution_count": 4,
   "metadata": {},
   "outputs": [
    {
     "name": "stdout",
     "output_type": "stream",
     "text": [
      "[78, 100, 'Dias', 'Python']\n",
      "[<class 'int'>, <class 'int'>, <class 'str'>, <class 'str'>]\n"
     ]
    }
   ],
   "source": [
    "import itertools\n",
    "\n",
    "a = (78, 100) \n",
    "b = (\"Dias\", \"Python\")\n",
    "\n",
    "res = list(itertools.chain(a,b))\n",
    "print(res)\n",
    "print(list(map(lambda x: type(x),res)))"
   ]
  }
 ],
 "metadata": {
  "kernelspec": {
   "display_name": "Python 3",
   "language": "python",
   "name": "python3"
  },
  "language_info": {
   "codemirror_mode": {
    "name": "ipython",
    "version": 3
   },
   "file_extension": ".py",
   "mimetype": "text/x-python",
   "name": "python",
   "nbconvert_exporter": "python",
   "pygments_lexer": "ipython3",
   "version": "3.11.6"
  }
 },
 "nbformat": 4,
 "nbformat_minor": 2
}
