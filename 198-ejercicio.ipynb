{
 "cells": [
  {
   "cell_type": "code",
   "execution_count": null,
   "metadata": {},
   "outputs": [],
   "source": [
    "\"\"\"\n",
    "Utiliza una función lambda para ordenar de forma\n",
    "ascendente la siguiente lista de tuplas tomando el\n",
    "        valor numérico como referencia\n",
    "[(\"Quimica\", 88),(\"Fisica\", 90), (\"Lenguaje\", 97)]\n",
    "            Imprime el resultado\n",
    "\"\"\""
   ]
  },
  {
   "cell_type": "code",
   "execution_count": 2,
   "metadata": {},
   "outputs": [
    {
     "name": "stdout",
     "output_type": "stream",
     "text": [
      "[('Quimica', 88), ('Fisica', 90), ('Lenguaje', 97)]\n"
     ]
    }
   ],
   "source": [
    "lista = [(\"Quimica\", 88),(\"Fisica\", 90), (\"Lenguaje\", 97)]\n",
    "\n",
    "lista.sort(key= lambda x: x[1])\n",
    "print(lista)"
   ]
  }
 ],
 "metadata": {
  "kernelspec": {
   "display_name": "Python 3",
   "language": "python",
   "name": "python3"
  },
  "language_info": {
   "codemirror_mode": {
    "name": "ipython",
    "version": 3
   },
   "file_extension": ".py",
   "mimetype": "text/x-python",
   "name": "python",
   "nbconvert_exporter": "python",
   "pygments_lexer": "ipython3",
   "version": "3.11.6"
  }
 },
 "nbformat": 4,
 "nbformat_minor": 2
}
