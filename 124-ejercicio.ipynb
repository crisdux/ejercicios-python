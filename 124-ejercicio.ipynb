{
 "cells": [
  {
   "cell_type": "code",
   "execution_count": 13,
   "metadata": {},
   "outputs": [],
   "source": [
    "#  Dada una lista de entrada de valores numéricos y dado un número de referencia, obtenga una lista de dos listas,      │\n",
    "# │ donde la primera lista contenga todos los números de la lista de entrada menores que el número de referencia y donde │\n",
    "# │ la segunda lista contenga todos los números de la lista de salida mayores o iguales que el número de referencia.     │\n",
    "# │                                                                                                                      │\n",
    "# │ Mantenga el mismo orden en el que vienen los números de la lista de entrada."
   ]
  },
  {
   "cell_type": "code",
   "execution_count": 14,
   "metadata": {},
   "outputs": [
    {
     "name": "stdout",
     "output_type": "stream",
     "text": [
      "[[3, 2], [4, 9, 8, 5]]\n",
      "[[5, 3, 8, 7], [11, 19, 12, 15]]\n",
      "[[1, 2, 3], []]\n",
      "[[], [1, 2, 3]]\n"
     ]
    }
   ],
   "source": [
    "def npartition(values, ref_value):\n",
    "    list_min = []\n",
    "    list_max = []\n",
    "    for value in values:\n",
    "        if ref_value > value:\n",
    "            list_min.append(value)\n",
    "        else:\n",
    "            list_max.append(value)\n",
    "    return [list_min, list_max]\n",
    "\n",
    "print(npartition([4, 3, 2, 9, 8, 5], 4))\n",
    "print(npartition( [5, 3, 8, 7, 11, 19, 12, 15], 10))\n",
    "print(npartition( [1, 2, 3], 10))\n",
    "print(npartition( [1, 2, 3], -10))"
   ]
  }
 ],
 "metadata": {
  "kernelspec": {
   "display_name": "Python 3",
   "language": "python",
   "name": "python3"
  },
  "language_info": {
   "codemirror_mode": {
    "name": "ipython",
    "version": 3
   },
   "file_extension": ".py",
   "mimetype": "text/x-python",
   "name": "python",
   "nbconvert_exporter": "python",
   "pygments_lexer": "ipython3",
   "version": "3.11.6"
  }
 },
 "nbformat": 4,
 "nbformat_minor": 2
}
