{
 "cells": [
  {
   "cell_type": "code",
   "execution_count": null,
   "metadata": {},
   "outputs": [],
   "source": [
    "# Utiliza una función lambda para sumar las siguientes\n",
    "# listas lista_a = [2, 4, 5] , lista_b = [6, 7, 1]\n",
    "#         Imprime el resultado en nueva lista"
   ]
  },
  {
   "cell_type": "code",
   "execution_count": 1,
   "metadata": {},
   "outputs": [
    {
     "name": "stdout",
     "output_type": "stream",
     "text": [
      "[8, 11, 6]\n"
     ]
    }
   ],
   "source": [
    "lista_a = [2, 4, 5]\n",
    "lista_b = [6, 7, 1]\n",
    "\n",
    "res = list(map(lambda x, y: x+y,lista_a, lista_b))\n",
    "\n",
    "print(res)"
   ]
  }
 ],
 "metadata": {
  "kernelspec": {
   "display_name": "Python 3",
   "language": "python",
   "name": "python3"
  },
  "language_info": {
   "codemirror_mode": {
    "name": "ipython",
    "version": 3
   },
   "file_extension": ".py",
   "mimetype": "text/x-python",
   "name": "python",
   "nbconvert_exporter": "python",
   "pygments_lexer": "ipython3",
   "version": "3.11.6"
  }
 },
 "nbformat": 4,
 "nbformat_minor": 2
}
