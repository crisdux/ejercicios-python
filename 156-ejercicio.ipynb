{
 "cells": [
  {
   "cell_type": "code",
   "execution_count": null,
   "metadata": {},
   "outputs": [],
   "source": [
    "# Intercambia los valores de dos variables e imprime su ubicación en memoria\n",
    "#                         utilizando la función id()"
   ]
  },
  {
   "cell_type": "code",
   "execution_count": 4,
   "metadata": {},
   "outputs": [
    {
     "name": "stdout",
     "output_type": "stream",
     "text": [
      "x => 140712345199400\n",
      "y => 140712345199432\n",
      "------------\n",
      "x => 140712345199432\n",
      "y => 140712345199400\n"
     ]
    }
   ],
   "source": [
    "x = 1\n",
    "y = 2\n",
    "\n",
    "print(f\"x => {id(x)}\")\n",
    "print(f\"y => {id(y)}\")\n",
    "\n",
    "x, y = y, x\n",
    "\n",
    "print(\"------------\")\n",
    "\n",
    "print(f\"x => {id(x)}\")\n",
    "print(f\"y => {id(y)}\")"
   ]
  }
 ],
 "metadata": {
  "kernelspec": {
   "display_name": "Python 3",
   "language": "python",
   "name": "python3"
  },
  "language_info": {
   "codemirror_mode": {
    "name": "ipython",
    "version": 3
   },
   "file_extension": ".py",
   "mimetype": "text/x-python",
   "name": "python",
   "nbconvert_exporter": "python",
   "pygments_lexer": "ipython3",
   "version": "3.11.6"
  }
 },
 "nbformat": 4,
 "nbformat_minor": 2
}
