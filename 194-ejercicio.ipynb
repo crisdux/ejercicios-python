{
 "cells": [
  {
   "cell_type": "code",
   "execution_count": 5,
   "metadata": {},
   "outputs": [],
   "source": [
    "# Crea una función que reciba una lista de cadenas y\n",
    "#     devuelva un diccionario con la cantidad\n",
    "#             de vocales de cada cadena\n",
    "# Ejemplo de entrada: ['Python', 'es', 'cool']\n",
    "# Ejemplo de salida: {'Python': 1, 'es': 1, 'cool': 2}\n",
    "#             Imprime el resultado"
   ]
  },
  {
   "cell_type": "code",
   "execution_count": 16,
   "metadata": {},
   "outputs": [
    {
     "name": "stdout",
     "output_type": "stream",
     "text": [
      "{'Python': 1, 'es': 1, 'cool': 2}\n"
     ]
    }
   ],
   "source": [
    "def contador_vocales(cadenas):\n",
    "    res = {}\n",
    "    for palabra in cadenas:\n",
    "        res[palabra] = sum(palabra.count(vocal) for vocal in \"aeiou\")\n",
    "    return res\n",
    "\n",
    "print(contador_vocales(['Python', 'es', 'cool']))"
   ]
  }
 ],
 "metadata": {
  "kernelspec": {
   "display_name": "Python 3",
   "language": "python",
   "name": "python3"
  },
  "language_info": {
   "codemirror_mode": {
    "name": "ipython",
    "version": 3
   },
   "file_extension": ".py",
   "mimetype": "text/x-python",
   "name": "python",
   "nbconvert_exporter": "python",
   "pygments_lexer": "ipython3",
   "version": "3.11.6"
  }
 },
 "nbformat": 4,
 "nbformat_minor": 2
}
