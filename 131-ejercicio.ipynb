{
 "cells": [
  {
   "cell_type": "code",
   "execution_count": null,
   "metadata": {},
   "outputs": [],
   "source": [
    "# Partiendo de un diccionario de ciudades (claves) y poblaciones (valores) -suponiendo que estas ciudades son las      │\n",
    "# │ únicas que existen en el planeta- calcule el porcentaje de población relativo de cada una de ellas con respecto al   │\n",
    "# │ total, dando como salida un diccionario.                                                                             │\n",
    "# │                                                                                                                      │\n",
    "# │ Obtenga la media de población con una precisión de 3 decimales."
   ]
  },
  {
   "cell_type": "code",
   "execution_count": 9,
   "metadata": {},
   "outputs": [
    {
     "name": "stdout",
     "output_type": "stream",
     "text": [
      "{'Tokyo': 34.536, 'Delhi': 23.954, 'Shanghai': 22.171, 'Mumbai': 19.339}\n"
     ]
    }
   ],
   "source": [
    "def avg_population(pdata):\n",
    "    ciudades = pdata.keys()\n",
    "    poblacion = pdata.values()\n",
    "    total_poblacion = sum(poblacion)\n",
    "    res = {}\n",
    "    for c, p in zip(ciudades, poblacion):\n",
    "        res[c] = round((100 * p) / total_poblacion, 3)\n",
    "    return res\n",
    "\n",
    "print(avg_population({'Tokyo': 38140000, 'Delhi': 26454000, 'Shanghai':24484000, 'Mumbai': 21357000}))\n"
   ]
  }
 ],
 "metadata": {
  "kernelspec": {
   "display_name": "Python 3",
   "language": "python",
   "name": "python3"
  },
  "language_info": {
   "codemirror_mode": {
    "name": "ipython",
    "version": 3
   },
   "file_extension": ".py",
   "mimetype": "text/x-python",
   "name": "python",
   "nbconvert_exporter": "python",
   "pygments_lexer": "ipython3",
   "version": "3.11.6"
  }
 },
 "nbformat": 4,
 "nbformat_minor": 2
}
