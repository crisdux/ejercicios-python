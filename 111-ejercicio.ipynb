{
 "cells": [
  {
   "cell_type": "code",
   "execution_count": 13,
   "metadata": {},
   "outputs": [],
   "source": [
    "#  Dado un número entero no negativo n, obtenga una lista con los números desde n hasta 1."
   ]
  },
  {
   "cell_type": "code",
   "execution_count": 14,
   "metadata": {},
   "outputs": [
    {
     "name": "stdout",
     "output_type": "stream",
     "text": [
      "[5, 4, 3, 2, 1]\n",
      "[10, 9, 8, 7, 6, 5, 4, 3, 2, 1]\n",
      "[1]\n",
      "[]\n"
     ]
    }
   ],
   "source": [
    "def descending_numbers(n):\n",
    "    return [ i for i in range(n, 0, -1)]\n",
    "\n",
    "print(descending_numbers(5))\n",
    "print(descending_numbers(10))\n",
    "print(descending_numbers(1))\n",
    "print(descending_numbers(0))"
   ]
  }
 ],
 "metadata": {
  "kernelspec": {
   "display_name": "Python 3",
   "language": "python",
   "name": "python3"
  },
  "language_info": {
   "codemirror_mode": {
    "name": "ipython",
    "version": 3
   },
   "file_extension": ".py",
   "mimetype": "text/x-python",
   "name": "python",
   "nbconvert_exporter": "python",
   "pygments_lexer": "ipython3",
   "version": "3.11.6"
  }
 },
 "nbformat": 4,
 "nbformat_minor": 2
}
