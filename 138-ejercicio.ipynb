{
 "cells": [
  {
   "cell_type": "code",
   "execution_count": null,
   "metadata": {},
   "outputs": [],
   "source": [
    "# Usted es encargado de una empresa de merchandising y dispone de un cierto stock para los artículos. El cliente hace un pedido     │\n",
    "# │ especificando el artículo y la cantidad requerida.                                                                                │\n",
    "# │                                                                                                                                   │\n",
    "# │ Usted debe comprobar si existe stock para la cantidad solicitada del artículo indicando True o False."
   ]
  },
  {
   "cell_type": "code",
   "execution_count": 13,
   "metadata": {},
   "outputs": [
    {
     "name": "stdout",
     "output_type": "stream",
     "text": [
      "True\n",
      "False\n",
      "True\n",
      "False\n"
     ]
    }
   ],
   "source": [
    "def order_stock(stock, merch, amount):\n",
    "    if merch not in stock or stock[merch] < amount:\n",
    "        return False\n",
    "    else:\n",
    "        return True\n",
    "\n",
    "print(order_stock({'pen': 20, 'cup': 11, 'keyring': 40}, \"cup\", 9))\n",
    "print(order_stock( {'pen': 20, 'cup': 11, 'keyring': 40}, \"pen\", 21))\n",
    "print(order_stock({'pen': 20, 'cup': 11, 'keyring': 40}, \"keyring\", 40))\n",
    "print(order_stock( {'pen': 20, 'cup': 11, 'keyring': 40}, \"popcorn\", 5))\n"
   ]
  }
 ],
 "metadata": {
  "kernelspec": {
   "display_name": "Python 3",
   "language": "python",
   "name": "python3"
  },
  "language_info": {
   "codemirror_mode": {
    "name": "ipython",
    "version": 3
   },
   "file_extension": ".py",
   "mimetype": "text/x-python",
   "name": "python",
   "nbconvert_exporter": "python",
   "pygments_lexer": "ipython3",
   "version": "3.11.6"
  }
 },
 "nbformat": 4,
 "nbformat_minor": 2
}
