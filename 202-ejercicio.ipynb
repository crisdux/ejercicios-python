{
 "cells": [
  {
   "cell_type": "code",
   "execution_count": null,
   "metadata": {},
   "outputs": [],
   "source": [
    "# Utiliza itertools para obtener la cantidad de veces que\n",
    "#         se repite cada número en la lista\n",
    "#         [0, 1, 1, 2, 3, 2, 4, 5, 5, 8, 4]\n",
    "# Imprime el resultado en un diccionario con el formato\n",
    "#         {número:cantidad de repeticiones}"
   ]
  },
  {
   "cell_type": "code",
   "execution_count": 7,
   "metadata": {},
   "outputs": [
    {
     "name": "stdout",
     "output_type": "stream",
     "text": [
      "{0: 1, 1: 2, 2: 2, 3: 1, 4: 2, 5: 2, 8: 1}\n"
     ]
    }
   ],
   "source": [
    "import itertools\n",
    "\n",
    "data = [0, 1, 1, 2, 3, 2, 4, 5, 5, 8, 4]\n",
    "\n",
    "data_sort = sorted(data)\n",
    "res= {}\n",
    "\n",
    "for key, value in itertools.groupby(data_sort):\n",
    "    res[key] = len(list(value))\n",
    "\n",
    "print(res)"
   ]
  }
 ],
 "metadata": {
  "kernelspec": {
   "display_name": "Python 3",
   "language": "python",
   "name": "python3"
  },
  "language_info": {
   "codemirror_mode": {
    "name": "ipython",
    "version": 3
   },
   "file_extension": ".py",
   "mimetype": "text/x-python",
   "name": "python",
   "nbconvert_exporter": "python",
   "pygments_lexer": "ipython3",
   "version": "3.11.6"
  }
 },
 "nbformat": 4,
 "nbformat_minor": 2
}
