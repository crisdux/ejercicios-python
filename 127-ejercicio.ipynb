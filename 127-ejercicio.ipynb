{
 "cells": [
  {
   "cell_type": "code",
   "execution_count": 5,
   "metadata": {},
   "outputs": [],
   "source": [
    "# │ Ordene la lista de números dada de manera ascendente sin utilizar la función sorted().                               │\n",
    "# │                                                                                                                      │\n",
    "# │ IMPORTANTE: No modifique la lista de entrada. En vez de eso haga una copia en otra lista antes de modificar.\n"
   ]
  },
  {
   "cell_type": "code",
   "execution_count": 6,
   "metadata": {},
   "outputs": [
    {
     "name": "stdout",
     "output_type": "stream",
     "text": [
      "[1, 2, 4, 7, 8, 9]\n",
      "[3, 5, 7, 11, 16, 18, 21, 34, 42, 51]\n",
      "[1, 2, 2, 2, 3, 4, 5, 7, 7, 9, 9, 9]\n",
      "[0]\n",
      "[0, 1]\n"
     ]
    }
   ],
   "source": [
    "def sort_numbers(numbers):\n",
    "    nueva_lista = numbers.copy()\n",
    "    res = []\n",
    "    while len(nueva_lista) != 0:\n",
    "        min_value = min(nueva_lista)\n",
    "        res.append(min_value)\n",
    "        nueva_lista.remove(min_value)\n",
    "    return res\n",
    "\n",
    "print(sort_numbers([4, 2, 9, 7, 1, 8]))\n",
    "print(sort_numbers([21, 11, 5, 34, 42, 7, 16, 3, 51, 18]))\n",
    "print(sort_numbers([3, 2, 2, 5, 7, 1, 7, 9, 2, 9, 9, 4]))\n",
    "print(sort_numbers([0]))\n",
    "print(sort_numbers([1, 0]))\n",
    "\n"
   ]
  }
 ],
 "metadata": {
  "kernelspec": {
   "display_name": "Python 3",
   "language": "python",
   "name": "python3"
  },
  "language_info": {
   "codemirror_mode": {
    "name": "ipython",
    "version": 3
   },
   "file_extension": ".py",
   "mimetype": "text/x-python",
   "name": "python",
   "nbconvert_exporter": "python",
   "pygments_lexer": "ipython3",
   "version": "3.11.6"
  }
 },
 "nbformat": 4,
 "nbformat_minor": 2
}
