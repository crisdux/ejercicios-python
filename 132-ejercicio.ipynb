{
 "cells": [
  {
   "cell_type": "code",
   "execution_count": null,
   "metadata": {},
   "outputs": [],
   "source": [
    "#  Tenemos almacenadas las notas de un examen en un diccionario. Es necesario separar al alumnado que aprobó y al que   │\n",
    "# │ suspendió en dos diccionarios. Igualmente habrá que pasar a mayúsculas el nombre del alumnado que aprobó y a         │\n",
    "# │ minúsculas el nombre del alumnado que suspendió. Escriba un programa en Python que realice esta operación usando     │\n",
    "# │ diccionarios por comprensión."
   ]
  },
  {
   "cell_type": "code",
   "execution_count": 5,
   "metadata": {},
   "outputs": [
    {
     "name": "stdout",
     "output_type": "stream",
     "text": [
      "({'DOMINGO': 7, 'JUAN': 8}, {'ana': 4, 'eva': 5, 'álvaro': 3, 'belén': 1})\n"
     ]
    }
   ],
   "source": [
    "def split_marks(marks):\n",
    "    nombres = marks.keys()\n",
    "    notas = marks.values()\n",
    "    res_aprovados = {}\n",
    "    res_reprovados = {}\n",
    "\n",
    "    for nombre, nota in zip(nombres, notas):\n",
    "        if nota <=5:\n",
    "            res_reprovados[nombre.lower()] = nota\n",
    "        else:\n",
    "            res_aprovados[nombre.upper()] = nota\n",
    "    return res_aprovados, res_reprovados\n",
    "\n",
    "print(split_marks( {'Ana': 4, 'Domingo': 7, 'Eva': 5,'Álvaro': 3, 'Juan': 8, 'Belén': 1}))"
   ]
  }
 ],
 "metadata": {
  "kernelspec": {
   "display_name": "Python 3",
   "language": "python",
   "name": "python3"
  },
  "language_info": {
   "codemirror_mode": {
    "name": "ipython",
    "version": 3
   },
   "file_extension": ".py",
   "mimetype": "text/x-python",
   "name": "python",
   "nbconvert_exporter": "python",
   "pygments_lexer": "ipython3",
   "version": "3.11.6"
  }
 },
 "nbformat": 4,
 "nbformat_minor": 2
}
