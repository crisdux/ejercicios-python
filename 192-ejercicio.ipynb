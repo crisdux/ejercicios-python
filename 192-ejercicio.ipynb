{
 "cells": [
  {
   "cell_type": "code",
   "execution_count": null,
   "metadata": {},
   "outputs": [],
   "source": [
    "# Crea una función que convierta un número entero en binario\n",
    "#                 sin usar la función bin()\n",
    "#         El parámetro de entrada es un número entero\n",
    "#         El valor de salida es una cadena del valor\n",
    "#                 del número en binario\n",
    "#         Ejecuta la función para el número 52\n",
    "#                 Imprime el resultado"
   ]
  },
  {
   "cell_type": "code",
   "execution_count": 24,
   "metadata": {},
   "outputs": [
    {
     "name": "stdout",
     "output_type": "stream",
     "text": [
      "110100\n",
      "101101111011111\n"
     ]
    }
   ],
   "source": [
    "def int_a_bin(numero):\n",
    "    res = \"\"\n",
    "    while numero / 2 != 0:\n",
    "        cociente, resto = divmod(numero, 2)\n",
    "        numero = cociente\n",
    "        res += str(resto)\n",
    "    return res[::-1]\n",
    "\n",
    "print(int_a_bin(52))\n",
    "print(int_a_bin(23519))\n"
   ]
  }
 ],
 "metadata": {
  "kernelspec": {
   "display_name": "Python 3",
   "language": "python",
   "name": "python3"
  },
  "language_info": {
   "codemirror_mode": {
    "name": "ipython",
    "version": 3
   },
   "file_extension": ".py",
   "mimetype": "text/x-python",
   "name": "python",
   "nbconvert_exporter": "python",
   "pygments_lexer": "ipython3",
   "version": "3.11.6"
  }
 },
 "nbformat": 4,
 "nbformat_minor": 2
}
