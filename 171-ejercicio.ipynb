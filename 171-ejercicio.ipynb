{
 "cells": [
  {
   "cell_type": "code",
   "execution_count": null,
   "metadata": {},
   "outputs": [],
   "source": [
    "#     Crea una lista de animales y ordénala\n",
    "# alfabéticamente usando funciones de listas\n",
    "#             Imprime el resultado"
   ]
  },
  {
   "cell_type": "code",
   "execution_count": 1,
   "metadata": {},
   "outputs": [
    {
     "name": "stdout",
     "output_type": "stream",
     "text": [
      "['camello', 'gato', 'mosca', 'oveja', 'perro', 'vaca', 'zorrillo']\n"
     ]
    }
   ],
   "source": [
    "animales = [\"gato\", \"vaca\", \"oveja\", \"perro\", \"zorrillo\", \"camello\", \"mosca\"]\n",
    "print(sorted(animales))"
   ]
  }
 ],
 "metadata": {
  "kernelspec": {
   "display_name": "Python 3",
   "language": "python",
   "name": "python3"
  },
  "language_info": {
   "codemirror_mode": {
    "name": "ipython",
    "version": 3
   },
   "file_extension": ".py",
   "mimetype": "text/x-python",
   "name": "python",
   "nbconvert_exporter": "python",
   "pygments_lexer": "ipython3",
   "version": "3.11.6"
  }
 },
 "nbformat": 4,
 "nbformat_minor": 2
}
