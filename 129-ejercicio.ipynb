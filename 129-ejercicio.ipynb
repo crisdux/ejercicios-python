{
 "cells": [
  {
   "cell_type": "code",
   "execution_count": null,
   "metadata": {},
   "outputs": [],
   "source": [
    "#  El dato de entrada a su programa es una cadena de texto con el siguiente formato:                                    │\n",
    "# │                                                                                                                      │\n",
    "# │                                                                                                                      │\n",
    "# │  <city>:<population>;<city>:<population>;<city>:<population>;....                                                    │\n",
    "# │                                                                                                                      │\n",
    "# │                                                                                                                      │\n",
    "# │ El objetivo es conseguir obtener un diccionario donde las claves sean las ciudades y los valores sean los habitantes │\n",
    "# │ (como enteros)."
   ]
  },
  {
   "cell_type": "code",
   "execution_count": 7,
   "metadata": {},
   "outputs": [
    {
     "name": "stdout",
     "output_type": "stream",
     "text": [
      "{'Tokyo': '38_140_000', 'Delhi': '26_454_000', 'Shanghai': '24_484_000'}\n"
     ]
    }
   ],
   "source": [
    "def cities(cinfo):\n",
    "    res = {}\n",
    "    for item in cinfo.split(\";\"):\n",
    "        ciudad, poblacion = item.split(\":\")\n",
    "        res[ciudad] = poblacion\n",
    "    return res\n",
    "\n",
    "\n",
    "print(cities('Tokyo:38_140_000;Delhi:26_454_000;Shanghai:24_484_000'))"
   ]
  }
 ],
 "metadata": {
  "kernelspec": {
   "display_name": "Python 3",
   "language": "python",
   "name": "python3"
  },
  "language_info": {
   "codemirror_mode": {
    "name": "ipython",
    "version": 3
   },
   "file_extension": ".py",
   "mimetype": "text/x-python",
   "name": "python",
   "nbconvert_exporter": "python",
   "pygments_lexer": "ipython3",
   "version": "3.11.6"
  }
 },
 "nbformat": 4,
 "nbformat_minor": 2
}
