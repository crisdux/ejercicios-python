{
 "cells": [
  {
   "cell_type": "code",
   "execution_count": null,
   "metadata": {},
   "outputs": [],
   "source": [
    "# Dado un número entero no negativo, genere una lista con los dígitos de dicho número en orden inverso."
   ]
  },
  {
   "cell_type": "code",
   "execution_count": 4,
   "metadata": {},
   "outputs": [
    {
     "name": "stdout",
     "output_type": "stream",
     "text": [
      "[1, 3, 2, 5, 3]\n",
      "[1]\n",
      "[0, 9, 6, 7, 8, 2, 4]\n"
     ]
    }
   ],
   "source": [
    "def digit_rev_list(number):\n",
    "    number = str(number)\n",
    "    res = []\n",
    "    for i in list(number):\n",
    "        res.append(int(i))\n",
    "    return res[::-1]\n",
    "\n",
    "print(digit_rev_list(35231))\n",
    "print(digit_rev_list(1))\n",
    "print(digit_rev_list(4287690))"
   ]
  }
 ],
 "metadata": {
  "kernelspec": {
   "display_name": "Python 3",
   "language": "python",
   "name": "python3"
  },
  "language_info": {
   "codemirror_mode": {
    "name": "ipython",
    "version": 3
   },
   "file_extension": ".py",
   "mimetype": "text/x-python",
   "name": "python",
   "nbconvert_exporter": "python",
   "pygments_lexer": "ipython3",
   "version": "3.11.6"
  }
 },
 "nbformat": 4,
 "nbformat_minor": 2
}
