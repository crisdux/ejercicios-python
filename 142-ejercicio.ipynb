{
 "cells": [
  {
   "cell_type": "code",
   "execution_count": null,
   "metadata": {},
   "outputs": [],
   "source": [
    "# │ Dada una tupla de duplas (2 valores) obtenga una tupla con dos conjuntos:                                                         │\n",
    "# │                                                                                                                                   │\n",
    "# │  • El primer conjunto con los primeros valores de cada dupla.                                                                     │\n",
    "# │  • El segundo conjunto con los segundos valores de cada dupla."
   ]
  },
  {
   "cell_type": "code",
   "execution_count": 1,
   "metadata": {},
   "outputs": [
    {
     "name": "stdout",
     "output_type": "stream",
     "text": [
      "({8, 9, 4, 7}, {1, 2, 3, 5})\n",
      "({1, '|', '!'}, {'\"', 2, '@'})\n"
     ]
    }
   ],
   "source": [
    "def tupleset(tuple):\n",
    "    x = set()\n",
    "    y = set()\n",
    "    for sub_tuple in tuple:\n",
    "        x.add(sub_tuple[0])\n",
    "        y.add(sub_tuple[1])\n",
    "    return (x, y)\n",
    "    \n",
    "print(tupleset( ((4, 3), (8, 2), (7, 5), (8, 2), (9, 1))) )\n",
    "print(tupleset( ((1, 2), ('|', '@'), ('!', '\"'))))"
   ]
  }
 ],
 "metadata": {
  "kernelspec": {
   "display_name": "Python 3",
   "language": "python",
   "name": "python3"
  },
  "language_info": {
   "codemirror_mode": {
    "name": "ipython",
    "version": 3
   },
   "file_extension": ".py",
   "mimetype": "text/x-python",
   "name": "python",
   "nbconvert_exporter": "python",
   "pygments_lexer": "ipython3",
   "version": "3.11.6"
  }
 },
 "nbformat": 4,
 "nbformat_minor": 2
}
