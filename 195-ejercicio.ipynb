{
 "cells": [
  {
   "cell_type": "code",
   "execution_count": null,
   "metadata": {},
   "outputs": [],
   "source": [
    "#     Utiliza una función lambda para encontrar la raíz\n",
    "# cuadrada de esta lista de números [49, 4, 36, 16, 25]\n",
    "#     Imprime el resultado en nueva lista"
   ]
  },
  {
   "cell_type": "code",
   "execution_count": 4,
   "metadata": {},
   "outputs": [
    {
     "name": "stdout",
     "output_type": "stream",
     "text": [
      "[7.0, 2.0, 6.0, 4.0, 5.0]\n"
     ]
    }
   ],
   "source": [
    "from math import sqrt\n",
    "arr = [49, 4, 36, 16, 25]\n",
    "res = list(map(lambda x: sqrt(x), arr))\n",
    "\n",
    "print(res)"
   ]
  }
 ],
 "metadata": {
  "kernelspec": {
   "display_name": "Python 3",
   "language": "python",
   "name": "python3"
  },
  "language_info": {
   "codemirror_mode": {
    "name": "ipython",
    "version": 3
   },
   "file_extension": ".py",
   "mimetype": "text/x-python",
   "name": "python",
   "nbconvert_exporter": "python",
   "pygments_lexer": "ipython3",
   "version": "3.11.6"
  }
 },
 "nbformat": 4,
 "nbformat_minor": 2
}
