{
 "cells": [
  {
   "cell_type": "code",
   "execution_count": 53,
   "metadata": {},
   "outputs": [],
   "source": [
    "#  Partiendo de una cadena de texto con números separados por comas, obtenga una nueva cadena de texto donde se elimine el primer y  │\n",
    "# │ el último número, y los elementos aparezcan separados por espacios."
   ]
  },
  {
   "cell_type": "code",
   "execution_count": 54,
   "metadata": {},
   "outputs": [
    {
     "name": "stdout",
     "output_type": "stream",
     "text": [
      "2\n",
      "2 3\n",
      "2 3 4\n",
      "20 300 40\n",
      "\n",
      "\n",
      "\n"
     ]
    }
   ],
   "source": [
    "def fl_strip(numbers):\n",
    "    if len(numbers) <= 2:\n",
    "        return \"\"\n",
    "    list_numbers = numbers.split(\",\")\n",
    "    numbers_limpio = []\n",
    "    for number in list_numbers:\n",
    "        if number != \",\":\n",
    "            numbers_limpio.append(number)\n",
    "\n",
    "    del numbers_limpio[0]\n",
    "    del numbers_limpio[-1]\n",
    "    return \" \".join(numbers_limpio)\n",
    "\n",
    "print(fl_strip('1,2,3'))\n",
    "print(fl_strip('1,2,3,4'))\n",
    "print(fl_strip('1,2,3,4,5'))\n",
    "print(fl_strip('1,20,300,40,5'))\n",
    "print(fl_strip(\"\"))\n",
    "print(fl_strip(\"1\"))\n",
    "print(fl_strip(\"1,2\"))\n"
   ]
  }
 ],
 "metadata": {
  "kernelspec": {
   "display_name": "Python 3",
   "language": "python",
   "name": "python3"
  },
  "language_info": {
   "codemirror_mode": {
    "name": "ipython",
    "version": 3
   },
   "file_extension": ".py",
   "mimetype": "text/x-python",
   "name": "python",
   "nbconvert_exporter": "python",
   "pygments_lexer": "ipython3",
   "version": "3.11.6"
  }
 },
 "nbformat": 4,
 "nbformat_minor": 2
}
