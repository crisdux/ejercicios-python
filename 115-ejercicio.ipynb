{
 "cells": [
  {
   "cell_type": "code",
   "execution_count": 6,
   "metadata": {},
   "outputs": [],
   "source": [
    "#  Usted es granjera y debe cuidar sus ovejas, pero existe un lobo merodeando por la zona y hay peligro de que coma alguna oveja.    │\n",
    "# │                                                                                                                                   │\n",
    "# │ La lista de entrada contiene ovejas y un lobo. Posibles casos:                                                                    │\n",
    "# │                                                                                                                                   │\n",
    "# │ a) Si el lobo está cerca de una oveja, habrá que responder con el mensaje: \"Cuidado oveja X, el lobo te va a comer\".              │\n",
    "# │ b) Si el lobo está al final de la lista, habrá que responder con el mensaje: \"No te quiero ver más por aquí, lobo\"                │\n",
    "# │                                                                                                                                   │\n",
    "# │ Las posiciones hay que calcularlas empezando por el final de la lista con índice 1."
   ]
  },
  {
   "cell_type": "code",
   "execution_count": 7,
   "metadata": {},
   "outputs": [
    {
     "name": "stdout",
     "output_type": "stream",
     "text": [
      "Cuidado oveja 1, el lobo te va a comer\n",
      "Cuidado oveja 3, el lobo te va a comer\n",
      "Cuidado oveja 1, el lobo te va a comer\n",
      "No te quiero ver mas por aqui, lobo\n"
     ]
    }
   ],
   "source": [
    "def wolves(farm):\n",
    "    if farm[-1] == \"lobo\":\n",
    "        return \"No te quiero ver mas por aqui, lobo\"\n",
    "    farm_reverse = farm[::-1]\n",
    "    \n",
    "    for value in farm_reverse:\n",
    "        if value == \"lobo\":\n",
    "            return f\"Cuidado oveja {farm_reverse.index('lobo')}, el lobo te va a comer\"\n",
    "\n",
    "            \n",
    "\n",
    "print(wolves( ['oveja', 'oveja', 'lobo', 'oveja']))\n",
    "print(wolves(['lobo', 'oveja', 'oveja', 'oveja']))\n",
    "print(wolves(['lobo', 'oveja']))\n",
    "print(wolves( ['oveja', 'oveja', 'oveja', 'lobo']))\n"
   ]
  }
 ],
 "metadata": {
  "kernelspec": {
   "display_name": "Python 3",
   "language": "python",
   "name": "python3"
  },
  "language_info": {
   "codemirror_mode": {
    "name": "ipython",
    "version": 3
   },
   "file_extension": ".py",
   "mimetype": "text/x-python",
   "name": "python",
   "nbconvert_exporter": "python",
   "pygments_lexer": "ipython3",
   "version": "3.11.6"
  }
 },
 "nbformat": 4,
 "nbformat_minor": 2
}
