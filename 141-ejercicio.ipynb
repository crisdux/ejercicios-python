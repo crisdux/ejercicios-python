{
 "cells": [
  {
   "cell_type": "code",
   "execution_count": null,
   "metadata": {},
   "outputs": [],
   "source": [
    "# │ Dados dos diccionarios de entrada, escriba un programa en Python que mezcle ambos diccionarios en uno único de salida, sin usar   │\n",
    "# │ métodos de mezcla definidos en Python como:                                                                                       │\n",
    "# │                                                                                                                                   │\n",
    "# │                                                                                                                                   │\n",
    "# │  {**a, **b}                                                                                                                       │\n",
    "# │  a | b                                                                                                                            │\n",
    "# │  a.update(b)"
   ]
  },
  {
   "cell_type": "code",
   "execution_count": 18,
   "metadata": {},
   "outputs": [
    {
     "name": "stdout",
     "output_type": "stream",
     "text": [
      "{'a': 3, 'b': 2, 'c': 4}\n",
      "{0: 0, 1: 1}\n",
      "{'x': 2.1, 'y': 3.4}\n",
      "{}\n"
     ]
    }
   ],
   "source": [
    "def merge_dicts(d1, d2):\n",
    "    res = d1\n",
    "    for key, value in d2.items():\n",
    "        if key not in res:\n",
    "            res[key] = value\n",
    "        else:\n",
    "            res[key] = value\n",
    "    return res\n",
    "        \n",
    "print(merge_dicts({'a': 1, 'b': 2}, {'a': 3, 'c': 4}))\n",
    "print(merge_dicts({0: 1, 1: 0}, {0: 0, 1: 1}))\n",
    "print(merge_dicts({}, {'x': 2.1, 'y': 3.4}))\n",
    "print(merge_dicts({},{}))"
   ]
  }
 ],
 "metadata": {
  "kernelspec": {
   "display_name": "Python 3",
   "language": "python",
   "name": "python3"
  },
  "language_info": {
   "codemirror_mode": {
    "name": "ipython",
    "version": 3
   },
   "file_extension": ".py",
   "mimetype": "text/x-python",
   "name": "python",
   "nbconvert_exporter": "python",
   "pygments_lexer": "ipython3",
   "version": "3.11.6"
  }
 },
 "nbformat": 4,
 "nbformat_minor": 2
}
